{
 "cells": [
  {
   "cell_type": "code",
   "execution_count": 0,
   "metadata": {
    "colab": {},
    "colab_type": "code",
    "id": "NLDKr71YOhuq"
   },
   "outputs": [],
   "source": [
    "# if you keras is not using tensorflow as backend set \"KERAS_BACKEND=tensorflow\" use this command\n",
    "from keras.utils import np_utils \n",
    "from keras.datasets import mnist \n",
    "import seaborn as sns\n",
    "from keras.initializers import RandomNormal"
   ]
  },
  {
   "cell_type": "code",
   "execution_count": 0,
   "metadata": {
    "colab": {},
    "colab_type": "code",
    "id": "JWbBwJ3iOzkx"
   },
   "outputs": [],
   "source": [
    "%matplotlib inline\n",
    "import matplotlib.pyplot as plt\n",
    "import numpy as np\n",
    "import time\n",
    "# https://gist.github.com/greydanus/f6eee59eaf1d90fcb3b534a25362cea4\n",
    "# https://stackoverflow.com/a/14434334\n",
    "# this function is used to update the plots for each epoch and error\n",
    "def plt_dynamic(x, vy, ty, ax, colors=['b']):\n",
    "    ax.plot(x, vy, 'b', label=\"Validation Loss\")\n",
    "    ax.plot(x, ty, 'r', label=\"Train Loss\")\n",
    "    plt.legend()\n",
    "    plt.grid()\n",
    "    fig.canvas.draw()"
   ]
  },
  {
   "cell_type": "code",
   "execution_count": 0,
   "metadata": {
    "colab": {},
    "colab_type": "code",
    "id": "EGHYZRh3O3wh"
   },
   "outputs": [],
   "source": [
    "# the data, shuffled and split between train and test sets \n",
    "(X_train, y_train), (X_test, y_test) = mnist.load_data()"
   ]
  },
  {
   "cell_type": "code",
   "execution_count": 140,
   "metadata": {
    "colab": {
     "base_uri": "https://localhost:8080/",
     "height": 53
    },
    "colab_type": "code",
    "id": "PFlgzkbqO-y2",
    "outputId": "1e0cb32f-a8ef-4547-af77-9d2107fb2976"
   },
   "outputs": [
    {
     "name": "stdout",
     "output_type": "stream",
     "text": [
      "Number of training examples : 60000 and each image is of shape (28, 28)\n",
      "Number of training examples : 10000 and each image is of shape (28, 28)\n"
     ]
    }
   ],
   "source": [
    "print(\"Number of training examples :\", X_train.shape[0], \"and each image is of shape (%d, %d)\"%(X_train.shape[1], X_train.shape[2]))\n",
    "print(\"Number of training examples :\", X_test.shape[0], \"and each image is of shape (%d, %d)\"%(X_test.shape[1], X_test.shape[2]))"
   ]
  },
  {
   "cell_type": "code",
   "execution_count": 0,
   "metadata": {
    "colab": {},
    "colab_type": "code",
    "id": "mnKiwa-gPGGB"
   },
   "outputs": [],
   "source": [
    "# if you observe the input shape its 2 dimensional vector\n",
    "# for each image we have a (28*28) vector\n",
    "# we will convert the (28*28) vector into single dimensional vector of 1 * 784 \n",
    "\n",
    "X_train = X_train.reshape(X_train.shape[0], X_train.shape[1]*X_train.shape[2]) \n",
    "X_test = X_test.reshape(X_test.shape[0], X_test.shape[1]*X_test.shape[2]) "
   ]
  },
  {
   "cell_type": "code",
   "execution_count": 142,
   "metadata": {
    "colab": {
     "base_uri": "https://localhost:8080/",
     "height": 53
    },
    "colab_type": "code",
    "id": "Vv2SHGkMPLDY",
    "outputId": "af8e4e52-2af7-40da-bf56-71fe50064f02"
   },
   "outputs": [
    {
     "name": "stdout",
     "output_type": "stream",
     "text": [
      "Number of training examples : 60000 and each image is of shape (784)\n",
      "Number of training examples : 10000 and each image is of shape (784)\n"
     ]
    }
   ],
   "source": [
    "# after converting the input images from 3d to 2d vectors\n",
    "\n",
    "print(\"Number of training examples :\", X_train.shape[0], \"and each image is of shape (%d)\"%(X_train.shape[1]))\n",
    "print(\"Number of training examples :\", X_test.shape[0], \"and each image is of shape (%d)\"%(X_test.shape[1]))"
   ]
  },
  {
   "cell_type": "code",
   "execution_count": 143,
   "metadata": {
    "colab": {
     "base_uri": "https://localhost:8080/",
     "height": 803
    },
    "colab_type": "code",
    "id": "8xTHcPNWPO20",
    "outputId": "1faf63db-0273-4125-cda6-c6cf079f3c20"
   },
   "outputs": [
    {
     "name": "stdout",
     "output_type": "stream",
     "text": [
      "[  0   0   0   0   0   0   0   0   0   0   0   0   0   0   0   0   0   0\n",
      "   0   0   0   0   0   0   0   0   0   0   0   0   0   0   0   0   0   0\n",
      "   0   0   0   0   0   0   0   0   0   0   0   0   0   0   0   0   0   0\n",
      "   0   0   0   0   0   0   0   0   0   0   0   0   0   0   0   0   0   0\n",
      "   0   0   0   0   0   0   0   0   0   0   0   0   0   0   0   0   0   0\n",
      "   0   0   0   0   0   0   0   0   0   0   0   0   0   0   0   0   0   0\n",
      "   0   0   0   0   0   0   0   0   0   0   0   0   0   0   0   0   0   0\n",
      "   0   0   0   0   0   0   0   0   0   0   0   0   0   0   0   0   0   0\n",
      "   0   0   0   0   0   0   0   0   3  18  18  18 126 136 175  26 166 255\n",
      " 247 127   0   0   0   0   0   0   0   0   0   0   0   0  30  36  94 154\n",
      " 170 253 253 253 253 253 225 172 253 242 195  64   0   0   0   0   0   0\n",
      "   0   0   0   0   0  49 238 253 253 253 253 253 253 253 253 251  93  82\n",
      "  82  56  39   0   0   0   0   0   0   0   0   0   0   0   0  18 219 253\n",
      " 253 253 253 253 198 182 247 241   0   0   0   0   0   0   0   0   0   0\n",
      "   0   0   0   0   0   0   0   0  80 156 107 253 253 205  11   0  43 154\n",
      "   0   0   0   0   0   0   0   0   0   0   0   0   0   0   0   0   0   0\n",
      "   0  14   1 154 253  90   0   0   0   0   0   0   0   0   0   0   0   0\n",
      "   0   0   0   0   0   0   0   0   0   0   0   0   0 139 253 190   2   0\n",
      "   0   0   0   0   0   0   0   0   0   0   0   0   0   0   0   0   0   0\n",
      "   0   0   0   0   0  11 190 253  70   0   0   0   0   0   0   0   0   0\n",
      "   0   0   0   0   0   0   0   0   0   0   0   0   0   0   0   0  35 241\n",
      " 225 160 108   1   0   0   0   0   0   0   0   0   0   0   0   0   0   0\n",
      "   0   0   0   0   0   0   0   0   0  81 240 253 253 119  25   0   0   0\n",
      "   0   0   0   0   0   0   0   0   0   0   0   0   0   0   0   0   0   0\n",
      "   0   0  45 186 253 253 150  27   0   0   0   0   0   0   0   0   0   0\n",
      "   0   0   0   0   0   0   0   0   0   0   0   0   0  16  93 252 253 187\n",
      "   0   0   0   0   0   0   0   0   0   0   0   0   0   0   0   0   0   0\n",
      "   0   0   0   0   0   0   0 249 253 249  64   0   0   0   0   0   0   0\n",
      "   0   0   0   0   0   0   0   0   0   0   0   0   0   0  46 130 183 253\n",
      " 253 207   2   0   0   0   0   0   0   0   0   0   0   0   0   0   0   0\n",
      "   0   0   0   0  39 148 229 253 253 253 250 182   0   0   0   0   0   0\n",
      "   0   0   0   0   0   0   0   0   0   0   0   0  24 114 221 253 253 253\n",
      " 253 201  78   0   0   0   0   0   0   0   0   0   0   0   0   0   0   0\n",
      "   0   0  23  66 213 253 253 253 253 198  81   2   0   0   0   0   0   0\n",
      "   0   0   0   0   0   0   0   0   0   0  18 171 219 253 253 253 253 195\n",
      "  80   9   0   0   0   0   0   0   0   0   0   0   0   0   0   0   0   0\n",
      "  55 172 226 253 253 253 253 244 133  11   0   0   0   0   0   0   0   0\n",
      "   0   0   0   0   0   0   0   0   0   0 136 253 253 253 212 135 132  16\n",
      "   0   0   0   0   0   0   0   0   0   0   0   0   0   0   0   0   0   0\n",
      "   0   0   0   0   0   0   0   0   0   0   0   0   0   0   0   0   0   0\n",
      "   0   0   0   0   0   0   0   0   0   0   0   0   0   0   0   0   0   0\n",
      "   0   0   0   0   0   0   0   0   0   0   0   0   0   0   0   0   0   0\n",
      "   0   0   0   0   0   0   0   0   0   0   0   0   0   0   0   0   0   0\n",
      "   0   0   0   0   0   0   0   0   0   0]\n"
     ]
    }
   ],
   "source": [
    "# An example data point\n",
    "print(X_train[0])"
   ]
  },
  {
   "cell_type": "code",
   "execution_count": 0,
   "metadata": {
    "colab": {},
    "colab_type": "code",
    "id": "vVhuJ8YsPSKw"
   },
   "outputs": [],
   "source": [
    "# if we observe the above matrix each cell is having a value between 0-255\n",
    "# before we move to apply machine learning algorithms lets try to normalize the data\n",
    "# X => (X - Xmin)/(Xmax-Xmin) = X/255\n",
    "\n",
    "X_train = X_train/255\n",
    "X_test = X_test/255"
   ]
  },
  {
   "cell_type": "code",
   "execution_count": 145,
   "metadata": {
    "colab": {
     "base_uri": "https://localhost:8080/",
     "height": 2358
    },
    "colab_type": "code",
    "id": "vlpupCJOPZQ9",
    "outputId": "c89ad664-598d-4b70-f199-68259809715a"
   },
   "outputs": [
    {
     "name": "stdout",
     "output_type": "stream",
     "text": [
      "[0.         0.         0.         0.         0.         0.\n",
      " 0.         0.         0.         0.         0.         0.\n",
      " 0.         0.         0.         0.         0.         0.\n",
      " 0.         0.         0.         0.         0.         0.\n",
      " 0.         0.         0.         0.         0.         0.\n",
      " 0.         0.         0.         0.         0.         0.\n",
      " 0.         0.         0.         0.         0.         0.\n",
      " 0.         0.         0.         0.         0.         0.\n",
      " 0.         0.         0.         0.         0.         0.\n",
      " 0.         0.         0.         0.         0.         0.\n",
      " 0.         0.         0.         0.         0.         0.\n",
      " 0.         0.         0.         0.         0.         0.\n",
      " 0.         0.         0.         0.         0.         0.\n",
      " 0.         0.         0.         0.         0.         0.\n",
      " 0.         0.         0.         0.         0.         0.\n",
      " 0.         0.         0.         0.         0.         0.\n",
      " 0.         0.         0.         0.         0.         0.\n",
      " 0.         0.         0.         0.         0.         0.\n",
      " 0.         0.         0.         0.         0.         0.\n",
      " 0.         0.         0.         0.         0.         0.\n",
      " 0.         0.         0.         0.         0.         0.\n",
      " 0.         0.         0.         0.         0.         0.\n",
      " 0.         0.         0.         0.         0.         0.\n",
      " 0.         0.         0.         0.         0.         0.\n",
      " 0.         0.         0.         0.         0.         0.\n",
      " 0.         0.         0.01176471 0.07058824 0.07058824 0.07058824\n",
      " 0.49411765 0.53333333 0.68627451 0.10196078 0.65098039 1.\n",
      " 0.96862745 0.49803922 0.         0.         0.         0.\n",
      " 0.         0.         0.         0.         0.         0.\n",
      " 0.         0.         0.11764706 0.14117647 0.36862745 0.60392157\n",
      " 0.66666667 0.99215686 0.99215686 0.99215686 0.99215686 0.99215686\n",
      " 0.88235294 0.6745098  0.99215686 0.94901961 0.76470588 0.25098039\n",
      " 0.         0.         0.         0.         0.         0.\n",
      " 0.         0.         0.         0.         0.         0.19215686\n",
      " 0.93333333 0.99215686 0.99215686 0.99215686 0.99215686 0.99215686\n",
      " 0.99215686 0.99215686 0.99215686 0.98431373 0.36470588 0.32156863\n",
      " 0.32156863 0.21960784 0.15294118 0.         0.         0.\n",
      " 0.         0.         0.         0.         0.         0.\n",
      " 0.         0.         0.         0.07058824 0.85882353 0.99215686\n",
      " 0.99215686 0.99215686 0.99215686 0.99215686 0.77647059 0.71372549\n",
      " 0.96862745 0.94509804 0.         0.         0.         0.\n",
      " 0.         0.         0.         0.         0.         0.\n",
      " 0.         0.         0.         0.         0.         0.\n",
      " 0.         0.         0.31372549 0.61176471 0.41960784 0.99215686\n",
      " 0.99215686 0.80392157 0.04313725 0.         0.16862745 0.60392157\n",
      " 0.         0.         0.         0.         0.         0.\n",
      " 0.         0.         0.         0.         0.         0.\n",
      " 0.         0.         0.         0.         0.         0.\n",
      " 0.         0.05490196 0.00392157 0.60392157 0.99215686 0.35294118\n",
      " 0.         0.         0.         0.         0.         0.\n",
      " 0.         0.         0.         0.         0.         0.\n",
      " 0.         0.         0.         0.         0.         0.\n",
      " 0.         0.         0.         0.         0.         0.\n",
      " 0.         0.54509804 0.99215686 0.74509804 0.00784314 0.\n",
      " 0.         0.         0.         0.         0.         0.\n",
      " 0.         0.         0.         0.         0.         0.\n",
      " 0.         0.         0.         0.         0.         0.\n",
      " 0.         0.         0.         0.         0.         0.04313725\n",
      " 0.74509804 0.99215686 0.2745098  0.         0.         0.\n",
      " 0.         0.         0.         0.         0.         0.\n",
      " 0.         0.         0.         0.         0.         0.\n",
      " 0.         0.         0.         0.         0.         0.\n",
      " 0.         0.         0.         0.         0.1372549  0.94509804\n",
      " 0.88235294 0.62745098 0.42352941 0.00392157 0.         0.\n",
      " 0.         0.         0.         0.         0.         0.\n",
      " 0.         0.         0.         0.         0.         0.\n",
      " 0.         0.         0.         0.         0.         0.\n",
      " 0.         0.         0.         0.31764706 0.94117647 0.99215686\n",
      " 0.99215686 0.46666667 0.09803922 0.         0.         0.\n",
      " 0.         0.         0.         0.         0.         0.\n",
      " 0.         0.         0.         0.         0.         0.\n",
      " 0.         0.         0.         0.         0.         0.\n",
      " 0.         0.         0.17647059 0.72941176 0.99215686 0.99215686\n",
      " 0.58823529 0.10588235 0.         0.         0.         0.\n",
      " 0.         0.         0.         0.         0.         0.\n",
      " 0.         0.         0.         0.         0.         0.\n",
      " 0.         0.         0.         0.         0.         0.\n",
      " 0.         0.0627451  0.36470588 0.98823529 0.99215686 0.73333333\n",
      " 0.         0.         0.         0.         0.         0.\n",
      " 0.         0.         0.         0.         0.         0.\n",
      " 0.         0.         0.         0.         0.         0.\n",
      " 0.         0.         0.         0.         0.         0.\n",
      " 0.         0.97647059 0.99215686 0.97647059 0.25098039 0.\n",
      " 0.         0.         0.         0.         0.         0.\n",
      " 0.         0.         0.         0.         0.         0.\n",
      " 0.         0.         0.         0.         0.         0.\n",
      " 0.         0.         0.18039216 0.50980392 0.71764706 0.99215686\n",
      " 0.99215686 0.81176471 0.00784314 0.         0.         0.\n",
      " 0.         0.         0.         0.         0.         0.\n",
      " 0.         0.         0.         0.         0.         0.\n",
      " 0.         0.         0.         0.         0.15294118 0.58039216\n",
      " 0.89803922 0.99215686 0.99215686 0.99215686 0.98039216 0.71372549\n",
      " 0.         0.         0.         0.         0.         0.\n",
      " 0.         0.         0.         0.         0.         0.\n",
      " 0.         0.         0.         0.         0.         0.\n",
      " 0.09411765 0.44705882 0.86666667 0.99215686 0.99215686 0.99215686\n",
      " 0.99215686 0.78823529 0.30588235 0.         0.         0.\n",
      " 0.         0.         0.         0.         0.         0.\n",
      " 0.         0.         0.         0.         0.         0.\n",
      " 0.         0.         0.09019608 0.25882353 0.83529412 0.99215686\n",
      " 0.99215686 0.99215686 0.99215686 0.77647059 0.31764706 0.00784314\n",
      " 0.         0.         0.         0.         0.         0.\n",
      " 0.         0.         0.         0.         0.         0.\n",
      " 0.         0.         0.         0.         0.07058824 0.67058824\n",
      " 0.85882353 0.99215686 0.99215686 0.99215686 0.99215686 0.76470588\n",
      " 0.31372549 0.03529412 0.         0.         0.         0.\n",
      " 0.         0.         0.         0.         0.         0.\n",
      " 0.         0.         0.         0.         0.         0.\n",
      " 0.21568627 0.6745098  0.88627451 0.99215686 0.99215686 0.99215686\n",
      " 0.99215686 0.95686275 0.52156863 0.04313725 0.         0.\n",
      " 0.         0.         0.         0.         0.         0.\n",
      " 0.         0.         0.         0.         0.         0.\n",
      " 0.         0.         0.         0.         0.53333333 0.99215686\n",
      " 0.99215686 0.99215686 0.83137255 0.52941176 0.51764706 0.0627451\n",
      " 0.         0.         0.         0.         0.         0.\n",
      " 0.         0.         0.         0.         0.         0.\n",
      " 0.         0.         0.         0.         0.         0.\n",
      " 0.         0.         0.         0.         0.         0.\n",
      " 0.         0.         0.         0.         0.         0.\n",
      " 0.         0.         0.         0.         0.         0.\n",
      " 0.         0.         0.         0.         0.         0.\n",
      " 0.         0.         0.         0.         0.         0.\n",
      " 0.         0.         0.         0.         0.         0.\n",
      " 0.         0.         0.         0.         0.         0.\n",
      " 0.         0.         0.         0.         0.         0.\n",
      " 0.         0.         0.         0.         0.         0.\n",
      " 0.         0.         0.         0.         0.         0.\n",
      " 0.         0.         0.         0.         0.         0.\n",
      " 0.         0.         0.         0.         0.         0.\n",
      " 0.         0.         0.         0.         0.         0.\n",
      " 0.         0.         0.         0.        ]\n"
     ]
    }
   ],
   "source": [
    "# example data point after normlizing\n",
    "print(X_train[0])"
   ]
  },
  {
   "cell_type": "code",
   "execution_count": 146,
   "metadata": {
    "colab": {
     "base_uri": "https://localhost:8080/",
     "height": 53
    },
    "colab_type": "code",
    "id": "IkrZEmD4PcES",
    "outputId": "9564e2f9-860a-49c5-ede2-e9a5f4779384"
   },
   "outputs": [
    {
     "name": "stdout",
     "output_type": "stream",
     "text": [
      "Class label of first image : 5\n",
      "After converting the output into a vector :  [0. 0. 0. 0. 0. 1. 0. 0. 0. 0.]\n"
     ]
    }
   ],
   "source": [
    "# here we are having a class number for each image\n",
    "print(\"Class label of first image :\", y_train[0])\n",
    "\n",
    "# lets convert this into a 10 dimensional vector\n",
    "# ex: consider an image is 5 convert it into 5 => [0, 0, 0, 0, 0, 1, 0, 0, 0, 0]\n",
    "# this conversion needed for MLPs \n",
    "\n",
    "Y_train = np_utils.to_categorical(y_train, 10) \n",
    "Y_test = np_utils.to_categorical(y_test, 10)\n",
    "\n",
    "print(\"After converting the output into a vector : \",Y_train[0])"
   ]
  },
  {
   "cell_type": "markdown",
   "metadata": {
    "colab_type": "text",
    "id": "H2PvTu8_PuR0"
   },
   "source": [
    "<h2>  Softmax classifier  </h2>"
   ]
  },
  {
   "cell_type": "code",
   "execution_count": 0,
   "metadata": {
    "colab": {},
    "colab_type": "code",
    "id": "ptWSjBKsPg3m"
   },
   "outputs": [],
   "source": [
    "# https://keras.io/getting-started/sequential-model-guide/\n",
    "\n",
    "# The Sequential model is a linear stack of layers.\n",
    "# you can create a Sequential model by passing a list of layer instances to the constructor:\n",
    "\n",
    "# model = Sequential([\n",
    "#     Dense(32, input_shape=(784,)),\n",
    "#     Activation('relu'),\n",
    "#     Dense(10),\n",
    "#     Activation('softmax'),\n",
    "# ])\n",
    "\n",
    "# You can also simply add layers via the .add() method:\n",
    "\n",
    "# model = Sequential()\n",
    "# model.add(Dense(32, input_dim=784))\n",
    "# model.add(Activation('relu'))\n",
    "\n",
    "###\n",
    "\n",
    "# https://keras.io/layers/core/\n",
    "\n",
    "# keras.layers.Dense(units, activation=None, use_bias=True, kernel_initializer='glorot_uniform', \n",
    "# bias_initializer='zeros', kernel_regularizer=None, bias_regularizer=None, activity_regularizer=None, \n",
    "# kernel_constraint=None, bias_constraint=None)\n",
    "\n",
    "# Dense implements the operation: output = activation(dot(input, kernel) + bias) where\n",
    "# activation is the element-wise activation function passed as the activation argument, \n",
    "# kernel is a weights matrix created by the layer, and \n",
    "# bias is a bias vector created by the layer (only applicable if use_bias is True).\n",
    "\n",
    "# output = activation(dot(input, kernel) + bias)  => y = activation(WT. X + b)\n",
    "\n",
    "####\n",
    "\n",
    "# https://keras.io/activations/\n",
    "\n",
    "# Activations can either be used through an Activation layer, or through the activation argument supported by all forward layers:\n",
    "\n",
    "# from keras.layers import Activation, Dense\n",
    "\n",
    "# model.add(Dense(64))\n",
    "# model.add(Activation('tanh'))\n",
    "\n",
    "# This is equivalent to:\n",
    "# model.add(Dense(64, activation='tanh'))\n",
    "\n",
    "# there are many activation functions ar available ex: tanh, relu, softmax\n",
    "\n",
    "\n",
    "from keras.models import Sequential \n",
    "from keras.layers import Dense, Activation \n",
    "from keras.initializers import he_normal"
   ]
  },
  {
   "cell_type": "code",
   "execution_count": 0,
   "metadata": {
    "colab": {},
    "colab_type": "code",
    "id": "xaQRkDEuPxva"
   },
   "outputs": [],
   "source": [
    "# some model parameters\n",
    "\n",
    "output_dim = 10\n",
    "input_dim = X_train.shape[1]\n",
    "\n",
    "batch_size = 128 \n",
    "nb_epoch = 20"
   ]
  },
  {
   "cell_type": "markdown",
   "metadata": {
    "colab_type": "text",
    "id": "1eXBJ7rjQFWS"
   },
   "source": [
    "\n",
    "<h2>1) 2-Hidden layer architecture (784-364-174-10 architecture)</h2>\n"
   ]
  },
  {
   "cell_type": "markdown",
   "metadata": {
    "colab_type": "text",
    "id": "wOV6xy9mSXYP"
   },
   "source": [
    "<h2>1.1 MLP + ReLU Activation + ADAM Optimizer</h2>\n",
    "\n"
   ]
  },
  {
   "cell_type": "code",
   "execution_count": 149,
   "metadata": {
    "colab": {
     "base_uri": "https://localhost:8080/",
     "height": 1000
    },
    "colab_type": "code",
    "id": "Hj6KxtsSSYPh",
    "outputId": "a42ae523-2f95-4e90-eb05-a75e4beea735"
   },
   "outputs": [
    {
     "name": "stdout",
     "output_type": "stream",
     "text": [
      "_________________________________________________________________\n",
      "Layer (type)                 Output Shape              Param #   \n",
      "=================================================================\n",
      "dense_64 (Dense)             (None, 364)               285740    \n",
      "_________________________________________________________________\n",
      "dense_65 (Dense)             (None, 174)               63510     \n",
      "_________________________________________________________________\n",
      "dense_66 (Dense)             (None, 10)                1750      \n",
      "=================================================================\n",
      "Total params: 351,000\n",
      "Trainable params: 351,000\n",
      "Non-trainable params: 0\n",
      "_________________________________________________________________\n",
      "None\n",
      "Train on 60000 samples, validate on 10000 samples\n",
      "Epoch 1/20\n",
      "60000/60000 [==============================] - 10s 170us/step - loss: 0.2437 - acc: 0.9279 - val_loss: 0.1265 - val_acc: 0.9615\n",
      "Epoch 2/20\n",
      "60000/60000 [==============================] - 7s 115us/step - loss: 0.0906 - acc: 0.9729 - val_loss: 0.0848 - val_acc: 0.9744\n",
      "Epoch 3/20\n",
      "60000/60000 [==============================] - 7s 112us/step - loss: 0.0581 - acc: 0.9818 - val_loss: 0.0758 - val_acc: 0.9760\n",
      "Epoch 4/20\n",
      "60000/60000 [==============================] - 7s 115us/step - loss: 0.0406 - acc: 0.9873 - val_loss: 0.0760 - val_acc: 0.9762\n",
      "Epoch 5/20\n",
      "60000/60000 [==============================] - 7s 113us/step - loss: 0.0304 - acc: 0.9904 - val_loss: 0.0683 - val_acc: 0.9788\n",
      "Epoch 6/20\n",
      "60000/60000 [==============================] - 7s 113us/step - loss: 0.0220 - acc: 0.9929 - val_loss: 0.0676 - val_acc: 0.9791\n",
      "Epoch 7/20\n",
      "60000/60000 [==============================] - 7s 114us/step - loss: 0.0195 - acc: 0.9937 - val_loss: 0.0751 - val_acc: 0.9785\n",
      "Epoch 8/20\n",
      "60000/60000 [==============================] - 7s 111us/step - loss: 0.0161 - acc: 0.9942 - val_loss: 0.0807 - val_acc: 0.9776\n",
      "Epoch 9/20\n",
      "60000/60000 [==============================] - 7s 113us/step - loss: 0.0128 - acc: 0.9959 - val_loss: 0.0721 - val_acc: 0.9778\n",
      "Epoch 10/20\n",
      "60000/60000 [==============================] - 7s 111us/step - loss: 0.0109 - acc: 0.9962 - val_loss: 0.0798 - val_acc: 0.9791\n",
      "Epoch 11/20\n",
      "60000/60000 [==============================] - 7s 111us/step - loss: 0.0115 - acc: 0.9960 - val_loss: 0.0806 - val_acc: 0.9804\n",
      "Epoch 12/20\n",
      "60000/60000 [==============================] - 7s 113us/step - loss: 0.0120 - acc: 0.9961 - val_loss: 0.0933 - val_acc: 0.9771\n",
      "Epoch 13/20\n",
      "60000/60000 [==============================] - 7s 113us/step - loss: 0.0119 - acc: 0.9959 - val_loss: 0.0712 - val_acc: 0.9830\n",
      "Epoch 14/20\n",
      "60000/60000 [==============================] - 7s 115us/step - loss: 0.0056 - acc: 0.9982 - val_loss: 0.0790 - val_acc: 0.9804\n",
      "Epoch 15/20\n",
      "60000/60000 [==============================] - 7s 113us/step - loss: 0.0087 - acc: 0.9972 - val_loss: 0.1055 - val_acc: 0.9762\n",
      "Epoch 16/20\n",
      "60000/60000 [==============================] - 7s 111us/step - loss: 0.0124 - acc: 0.9962 - val_loss: 0.0796 - val_acc: 0.9812\n",
      "Epoch 17/20\n",
      "60000/60000 [==============================] - 7s 114us/step - loss: 0.0100 - acc: 0.9969 - val_loss: 0.0763 - val_acc: 0.9831\n",
      "Epoch 18/20\n",
      "60000/60000 [==============================] - 7s 114us/step - loss: 0.0076 - acc: 0.9974 - val_loss: 0.0800 - val_acc: 0.9814\n",
      "Epoch 19/20\n",
      "60000/60000 [==============================] - 7s 112us/step - loss: 0.0056 - acc: 0.9981 - val_loss: 0.0804 - val_acc: 0.9844\n",
      "Epoch 20/20\n",
      "60000/60000 [==============================] - 7s 113us/step - loss: 0.0078 - acc: 0.9975 - val_loss: 0.0835 - val_acc: 0.9805\n"
     ]
    }
   ],
   "source": [
    "model_relu = Sequential()\n",
    "model_relu.add(Dense(364, activation='relu', input_shape=(input_dim,),\n",
    "                     kernel_initializer=he_normal(seed=None)))\n",
    "model_relu.add(Dense(174, activation='relu', \n",
    "                     kernel_initializer=he_normal(seed=None)) )\n",
    "model_relu.add(Dense(output_dim, activation='softmax'))\n",
    "\n",
    "print(model_relu.summary())\n",
    "\n",
    "model_relu.compile(optimizer='adam',\n",
    "                   loss='categorical_crossentropy',\n",
    "                   metrics=['accuracy'])\n",
    "\n",
    "history11 = model_relu.fit(X_train, Y_train, \n",
    "                         batch_size=batch_size, \n",
    "                         epochs=nb_epoch, verbose=1, \n",
    "                         validation_data=(X_test, Y_test))"
   ]
  },
  {
   "cell_type": "code",
   "execution_count": 150,
   "metadata": {
    "colab": {
     "base_uri": "https://localhost:8080/",
     "height": 319
    },
    "colab_type": "code",
    "id": "rqLWqjYfWf2g",
    "outputId": "54548c7b-22b6-4f69-9c6d-27e776ff28b3"
   },
   "outputs": [
    {
     "name": "stdout",
     "output_type": "stream",
     "text": [
      "Test score: 0.08348324791224636\n",
      "Test accuracy: 0.9805\n"
     ]
    },
    {
     "data": {
      "image/png": "[encoded data removed]",
      "text/plain": [
       "<Figure size 432x288 with 1 Axes>"
      ]
     },
     "metadata": {
      "tags": []
     },
     "output_type": "display_data"
    }
   ],
   "source": [
    "score = model_relu.evaluate(X_test, Y_test, verbose=0) \n",
    "score1=score[0]\n",
    "score2=score[1]\n",
    "train_acc1=history11.history['acc']\n",
    "print('Test score:', score[0]) \n",
    "print('Test accuracy:', score[1])\n",
    "\n",
    "fig,ax11 = plt.subplots(1,1)\n",
    "ax11.set_xlabel('epoch') ; ax11.set_ylabel('Categorical Crossentropy Loss')\n",
    "\n",
    "# list of epoch numbers\n",
    "x = list(range(1,nb_epoch+1))\n",
    "\n",
    "# print(history.history.keys())\n",
    "# dict_keys(['val_loss', 'val_acc', 'loss', 'acc'])\n",
    "# history = model_drop.fit(x_train, y_train, batch_size=batch_size, epochs=nb_epoch, verbose=1, validation_data=(x_test, y_test))\n",
    "\n",
    "# we will get val_loss and val_acc only when you pass the paramter validation_data\n",
    "# val_loss : validation loss\n",
    "# val_acc : validation accuracy\n",
    "\n",
    "# loss : training loss\n",
    "# acc : train accuracy\n",
    "# for each key in histrory.histrory we will have a list of length equal to number of epochs\n",
    "\n",
    "\n",
    "vy11 = history11.history['val_loss']\n",
    "ty11 = history11.history['loss']\n",
    "plt_dynamic(x, vy11, ty11, ax11)"
   ]
  },
  {
   "cell_type": "markdown",
   "metadata": {
    "colab_type": "text",
    "id": "mrjqPnr2dXbe"
   },
   "source": [
    "<h2>1.2 MLP + Batch-Norm on hidden Layers + AdamOptimizer</h2>"
   ]
  },
  {
   "cell_type": "code",
   "execution_count": 151,
   "metadata": {
    "colab": {
     "base_uri": "https://localhost:8080/",
     "height": 321
    },
    "colab_type": "code",
    "id": "C0yt4865TOTE",
    "outputId": "3db43a62-09f1-4d54-9331-898ad2c6e567"
   },
   "outputs": [
    {
     "name": "stdout",
     "output_type": "stream",
     "text": [
      "_________________________________________________________________\n",
      "Layer (type)                 Output Shape              Param #   \n",
      "=================================================================\n",
      "dense_67 (Dense)             (None, 364)               285740    \n",
      "_________________________________________________________________\n",
      "batch_normalization_31 (Batc (None, 364)               1456      \n",
      "_________________________________________________________________\n",
      "dense_68 (Dense)             (None, 174)               63510     \n",
      "_________________________________________________________________\n",
      "batch_normalization_32 (Batc (None, 174)               696       \n",
      "_________________________________________________________________\n",
      "dense_69 (Dense)             (None, 10)                1750      \n",
      "=================================================================\n",
      "Total params: 353,152\n",
      "Trainable params: 352,076\n",
      "Non-trainable params: 1,076\n",
      "_________________________________________________________________\n"
     ]
    }
   ],
   "source": [
    "from keras.layers.normalization import BatchNormalization\n",
    "\n",
    "model_batch = Sequential()\n",
    "\n",
    "model_batch.add(Dense(364, activation='relu', \n",
    "                      input_shape=(input_dim,),\n",
    "                      kernel_initializer=he_normal(seed=None)))\n",
    "model_batch.add(BatchNormalization())\n",
    "\n",
    "model_batch.add(Dense(174, activation='relu', \n",
    "                      kernel_initializer=he_normal(seed=None)) )\n",
    "model_batch.add(BatchNormalization())\n",
    "\n",
    "model_batch.add(Dense(output_dim, activation='softmax'))\n",
    "\n",
    "\n",
    "model_batch.summary()"
   ]
  },
  {
   "cell_type": "code",
   "execution_count": 152,
   "metadata": {
    "colab": {
     "base_uri": "https://localhost:8080/",
     "height": 750
    },
    "colab_type": "code",
    "id": "6-CZzZBMejiD",
    "outputId": "95aad8b4-caed-417a-a02a-8e2c2d1c3f0c"
   },
   "outputs": [
    {
     "name": "stdout",
     "output_type": "stream",
     "text": [
      "Train on 60000 samples, validate on 10000 samples\n",
      "Epoch 1/20\n",
      "60000/60000 [==============================] - 12s 204us/step - loss: 0.2025 - acc: 0.9393 - val_loss: 0.1062 - val_acc: 0.9657\n",
      "Epoch 2/20\n",
      "60000/60000 [==============================] - 9s 155us/step - loss: 0.0750 - acc: 0.9773 - val_loss: 0.0899 - val_acc: 0.9728\n",
      "Epoch 3/20\n",
      "60000/60000 [==============================] - 9s 148us/step - loss: 0.0482 - acc: 0.9851 - val_loss: 0.0849 - val_acc: 0.9737\n",
      "Epoch 4/20\n",
      "60000/60000 [==============================] - 9s 147us/step - loss: 0.0339 - acc: 0.9894 - val_loss: 0.0739 - val_acc: 0.9776\n",
      "Epoch 5/20\n",
      "60000/60000 [==============================] - 9s 144us/step - loss: 0.0266 - acc: 0.9911 - val_loss: 0.0783 - val_acc: 0.9779\n",
      "Epoch 6/20\n",
      "60000/60000 [==============================] - 9s 146us/step - loss: 0.0211 - acc: 0.9933 - val_loss: 0.0786 - val_acc: 0.9773\n",
      "Epoch 7/20\n",
      "60000/60000 [==============================] - 8s 139us/step - loss: 0.0202 - acc: 0.9932 - val_loss: 0.0793 - val_acc: 0.9798\n",
      "Epoch 8/20\n",
      "60000/60000 [==============================] - 8s 141us/step - loss: 0.0176 - acc: 0.9942 - val_loss: 0.0778 - val_acc: 0.9781\n",
      "Epoch 9/20\n",
      "60000/60000 [==============================] - 9s 143us/step - loss: 0.0153 - acc: 0.9949 - val_loss: 0.0895 - val_acc: 0.9763\n",
      "Epoch 10/20\n",
      "60000/60000 [==============================] - 9s 142us/step - loss: 0.0136 - acc: 0.9954 - val_loss: 0.0706 - val_acc: 0.9804\n",
      "Epoch 11/20\n",
      "60000/60000 [==============================] - 8s 139us/step - loss: 0.0116 - acc: 0.9964 - val_loss: 0.0763 - val_acc: 0.9791\n",
      "Epoch 12/20\n",
      "60000/60000 [==============================] - 9s 145us/step - loss: 0.0132 - acc: 0.9956 - val_loss: 0.0791 - val_acc: 0.9794\n",
      "Epoch 13/20\n",
      "60000/60000 [==============================] - 8s 140us/step - loss: 0.0116 - acc: 0.9963 - val_loss: 0.0727 - val_acc: 0.9812\n",
      "Epoch 14/20\n",
      "60000/60000 [==============================] - 8s 139us/step - loss: 0.0103 - acc: 0.9964 - val_loss: 0.0838 - val_acc: 0.9783\n",
      "Epoch 15/20\n",
      "60000/60000 [==============================] - 8s 136us/step - loss: 0.0095 - acc: 0.9969 - val_loss: 0.0767 - val_acc: 0.9824\n",
      "Epoch 16/20\n",
      "60000/60000 [==============================] - 8s 136us/step - loss: 0.0106 - acc: 0.9963 - val_loss: 0.0872 - val_acc: 0.9775\n",
      "Epoch 17/20\n",
      "60000/60000 [==============================] - 8s 140us/step - loss: 0.0076 - acc: 0.9977 - val_loss: 0.0801 - val_acc: 0.9815\n",
      "Epoch 18/20\n",
      "60000/60000 [==============================] - 8s 138us/step - loss: 0.0076 - acc: 0.9975 - val_loss: 0.0686 - val_acc: 0.9819\n",
      "Epoch 19/20\n",
      "60000/60000 [==============================] - 8s 138us/step - loss: 0.0070 - acc: 0.9979 - val_loss: 0.0784 - val_acc: 0.9819\n",
      "Epoch 20/20\n",
      "60000/60000 [==============================] - 8s 140us/step - loss: 0.0065 - acc: 0.9979 - val_loss: 0.0862 - val_acc: 0.9795\n"
     ]
    }
   ],
   "source": [
    "model_batch.compile(optimizer='adam', loss='categorical_crossentropy', \n",
    "                    metrics=['accuracy'])\n",
    "\n",
    "history12 = model_batch.fit(X_train, Y_train, \n",
    "                           batch_size=batch_size,\n",
    "                           epochs=nb_epoch, verbose=1, \n",
    "                           validation_data=(X_test, Y_test))"
   ]
  },
  {
   "cell_type": "code",
   "execution_count": 153,
   "metadata": {
    "colab": {
     "base_uri": "https://localhost:8080/",
     "height": 319
    },
    "colab_type": "code",
    "id": "0tHw3L07eu7k",
    "outputId": "82ba6344-b361-494a-dba7-139b07c3fc54"
   },
   "outputs": [
    {
     "name": "stdout",
     "output_type": "stream",
     "text": [
      "Test score: 0.08622472910828928\n",
      "Test accuracy: 0.9795\n"
     ]
    },
    {
     "data": {
      "image/png": "[encoded data removed]",
      "text/plain": [
       "<Figure size 432x288 with 1 Axes>"
      ]
     },
     "metadata": {
      "tags": []
     },
     "output_type": "display_data"
    }
   ],
   "source": [
    "score = model_batch.evaluate(X_test, Y_test, verbose=0) \n",
    "print('Test score:', score[0]) \n",
    "print('Test accuracy:', score[1])\n",
    "score3=score[0]\n",
    "score4=score[1]\n",
    "train_acc2=history11.history['acc']\n",
    "\n",
    "fig,ax12 = plt.subplots(1,1)\n",
    "ax12.set_xlabel('epoch') ; ax12.set_ylabel('Categorical Crossentropy Loss')\n",
    "\n",
    "# list of epoch numbers\n",
    "x = list(range(1,nb_epoch+1))\n",
    "\n",
    "\n",
    "vy12 = history12.history['val_loss']\n",
    "ty12 = history12.history['loss']\n",
    "plt_dynamic(x, vy12, ty12, ax12)"
   ]
  },
  {
   "cell_type": "markdown",
   "metadata": {
    "colab_type": "text",
    "id": "WaI-CQWQhh98"
   },
   "source": [
    "<h2>1.3 MLP + Dropout + AdamOptimizer</h2>"
   ]
  },
  {
   "cell_type": "code",
   "execution_count": 154,
   "metadata": {
    "colab": {
     "base_uri": "https://localhost:8080/",
     "height": 392
    },
    "colab_type": "code",
    "id": "KXkxiMZ7g7jh",
    "outputId": "23163e1a-2ea8-4fb7-f454-96fad166737c"
   },
   "outputs": [
    {
     "name": "stdout",
     "output_type": "stream",
     "text": [
      "_________________________________________________________________\n",
      "Layer (type)                 Output Shape              Param #   \n",
      "=================================================================\n",
      "dense_70 (Dense)             (None, 364)               285740    \n",
      "_________________________________________________________________\n",
      "batch_normalization_33 (Batc (None, 364)               1456      \n",
      "_________________________________________________________________\n",
      "dropout_16 (Dropout)         (None, 364)               0         \n",
      "_________________________________________________________________\n",
      "dense_71 (Dense)             (None, 174)               63510     \n",
      "_________________________________________________________________\n",
      "batch_normalization_34 (Batc (None, 174)               696       \n",
      "_________________________________________________________________\n",
      "dropout_17 (Dropout)         (None, 174)               0         \n",
      "_________________________________________________________________\n",
      "dense_72 (Dense)             (None, 10)                1750      \n",
      "=================================================================\n",
      "Total params: 353,152\n",
      "Trainable params: 352,076\n",
      "Non-trainable params: 1,076\n",
      "_________________________________________________________________\n"
     ]
    }
   ],
   "source": [
    "# https://stackoverflow.com/questions/34716454/where-do-i-call-the-batchnormalization-function-in-keras\n",
    "\n",
    "from keras.layers import Dropout\n",
    "\n",
    "model_drop = Sequential()\n",
    "\n",
    "model_drop.add(Dense(364, activation='relu',\n",
    "                     input_shape=(input_dim,),\n",
    "                     kernel_initializer=he_normal(seed=None)))\n",
    "model_drop.add(BatchNormalization())\n",
    "model_drop.add(Dropout(0.5))\n",
    "\n",
    "model_drop.add(Dense(174, activation='relu',\n",
    "                     kernel_initializer=he_normal(seed=None)) )\n",
    "model_drop.add(BatchNormalization())\n",
    "model_drop.add(Dropout(0.5))\n",
    "\n",
    "model_drop.add(Dense(output_dim, activation='softmax'))\n",
    "\n",
    "\n",
    "model_drop.summary()"
   ]
  },
  {
   "cell_type": "code",
   "execution_count": 155,
   "metadata": {
    "colab": {
     "base_uri": "https://localhost:8080/",
     "height": 750
    },
    "colab_type": "code",
    "id": "JB8ogirUh6hI",
    "outputId": "c9a5d1df-1785-4a16-ab12-dc62a549ac22"
   },
   "outputs": [
    {
     "name": "stdout",
     "output_type": "stream",
     "text": [
      "Train on 60000 samples, validate on 10000 samples\n",
      "Epoch 1/20\n",
      "60000/60000 [==============================] - 13s 221us/step - loss: 0.4532 - acc: 0.8635 - val_loss: 0.1638 - val_acc: 0.9506\n",
      "Epoch 2/20\n",
      "60000/60000 [==============================] - 9s 155us/step - loss: 0.2178 - acc: 0.9350 - val_loss: 0.1090 - val_acc: 0.9662\n",
      "Epoch 3/20\n",
      "60000/60000 [==============================] - 9s 152us/step - loss: 0.1707 - acc: 0.9484 - val_loss: 0.0988 - val_acc: 0.9691\n",
      "Epoch 4/20\n",
      "60000/60000 [==============================] - 9s 151us/step - loss: 0.1467 - acc: 0.9549 - val_loss: 0.0890 - val_acc: 0.9721\n",
      "Epoch 5/20\n",
      "60000/60000 [==============================] - 9s 150us/step - loss: 0.1326 - acc: 0.9588 - val_loss: 0.0789 - val_acc: 0.9751\n",
      "Epoch 6/20\n",
      "60000/60000 [==============================] - 9s 150us/step - loss: 0.1168 - acc: 0.9646 - val_loss: 0.0750 - val_acc: 0.9764\n",
      "Epoch 7/20\n",
      "60000/60000 [==============================] - 9s 151us/step - loss: 0.1082 - acc: 0.9668 - val_loss: 0.0667 - val_acc: 0.9786\n",
      "Epoch 8/20\n",
      "60000/60000 [==============================] - 9s 152us/step - loss: 0.1030 - acc: 0.9678 - val_loss: 0.0713 - val_acc: 0.9784\n",
      "Epoch 9/20\n",
      "60000/60000 [==============================] - 9s 153us/step - loss: 0.0959 - acc: 0.9699 - val_loss: 0.0633 - val_acc: 0.9811\n",
      "Epoch 10/20\n",
      "60000/60000 [==============================] - 9s 152us/step - loss: 0.0871 - acc: 0.9726 - val_loss: 0.0697 - val_acc: 0.9798\n",
      "Epoch 11/20\n",
      "60000/60000 [==============================] - 9s 153us/step - loss: 0.0860 - acc: 0.9729 - val_loss: 0.0654 - val_acc: 0.9809\n",
      "Epoch 12/20\n",
      "60000/60000 [==============================] - 9s 150us/step - loss: 0.0774 - acc: 0.9758 - val_loss: 0.0644 - val_acc: 0.9813\n",
      "Epoch 13/20\n",
      "60000/60000 [==============================] - 9s 149us/step - loss: 0.0756 - acc: 0.9756 - val_loss: 0.0612 - val_acc: 0.9822\n",
      "Epoch 14/20\n",
      "60000/60000 [==============================] - 9s 150us/step - loss: 0.0736 - acc: 0.9767 - val_loss: 0.0596 - val_acc: 0.9819\n",
      "Epoch 15/20\n",
      "60000/60000 [==============================] - 9s 150us/step - loss: 0.0720 - acc: 0.9766 - val_loss: 0.0576 - val_acc: 0.9820\n",
      "Epoch 16/20\n",
      "60000/60000 [==============================] - 9s 158us/step - loss: 0.0671 - acc: 0.9786 - val_loss: 0.0535 - val_acc: 0.9837\n",
      "Epoch 17/20\n",
      "60000/60000 [==============================] - 9s 151us/step - loss: 0.0627 - acc: 0.9798 - val_loss: 0.0569 - val_acc: 0.9826\n",
      "Epoch 18/20\n",
      "60000/60000 [==============================] - 9s 151us/step - loss: 0.0629 - acc: 0.9795 - val_loss: 0.0614 - val_acc: 0.9822\n",
      "Epoch 19/20\n",
      "60000/60000 [==============================] - 9s 150us/step - loss: 0.0627 - acc: 0.9800 - val_loss: 0.0539 - val_acc: 0.9837\n",
      "Epoch 20/20\n",
      "60000/60000 [==============================] - 9s 150us/step - loss: 0.0579 - acc: 0.9812 - val_loss: 0.0565 - val_acc: 0.9831\n"
     ]
    }
   ],
   "source": [
    "model_drop.compile(optimizer='adam',\n",
    "                   loss='categorical_crossentropy',\n",
    "                   metrics=['accuracy'])\n",
    "\n",
    "history13 = model_drop.fit(X_train, Y_train,\n",
    "                         batch_size=batch_size,\n",
    "                         \n",
    "                         epochs=nb_epoch, verbose=1,\n",
    "                         validation_data=(X_test, Y_test))"
   ]
  },
  {
   "cell_type": "code",
   "execution_count": 156,
   "metadata": {
    "colab": {
     "base_uri": "https://localhost:8080/",
     "height": 319
    },
    "colab_type": "code",
    "id": "IaSmgnE0iZZK",
    "outputId": "6d69d6d7-4e8e-49bd-e60b-22a76312f7dd"
   },
   "outputs": [
    {
     "name": "stdout",
     "output_type": "stream",
     "text": [
      "Test score: 0.056475996556773315\n",
      "Test accuracy: 0.9831\n"
     ]
    },
    {
     "data": {
      "image/png": "[encoded data removed]",
      "text/plain": [
       "<Figure size 432x288 with 1 Axes>"
      ]
     },
     "metadata": {
      "tags": []
     },
     "output_type": "display_data"
    }
   ],
   "source": [
    "score = model_drop.evaluate(X_test, Y_test, verbose=0) \n",
    "score5=score[0]\n",
    "score6=score[1]\n",
    "train_acc3=history11.history['acc']\n",
    "print('Test score:', score[0]) \n",
    "print('Test accuracy:', score[1])\n",
    "\n",
    "fig,ax13 = plt.subplots(1,1)\n",
    "ax13.set_xlabel('epoch') ; ax13.set_ylabel('Categorical Crossentropy Loss')\n",
    "\n",
    "vy13 = history13.history['val_loss']\n",
    "ty13 = history13.history['loss']\n",
    "plt_dynamic(x, vy13, ty13, ax13)"
   ]
  },
  {
   "cell_type": "markdown",
   "metadata": {
    "colab_type": "text",
    "id": "JDbWwWyLqzwu"
   },
   "source": [
    "\n",
    "<h2>2) 3-Hidden layer architecture (784-374-140-114-10 architecture)</h2>"
   ]
  },
  {
   "cell_type": "markdown",
   "metadata": {
    "colab_type": "text",
    "id": "vzUIuKsXSFMX"
   },
   "source": [
    "<h2>2.1 MLP + ReLU activation + ADAM Optimizer</h2>"
   ]
  },
  {
   "cell_type": "code",
   "execution_count": 157,
   "metadata": {
    "colab": {
     "base_uri": "https://localhost:8080/",
     "height": 1035
    },
    "colab_type": "code",
    "id": "i8B5Ttw0qx0l",
    "outputId": "6b680eb0-91f5-4b4b-bbd8-82ceb7f78e2e"
   },
   "outputs": [
    {
     "name": "stdout",
     "output_type": "stream",
     "text": [
      "_________________________________________________________________\n",
      "Layer (type)                 Output Shape              Param #   \n",
      "=================================================================\n",
      "dense_73 (Dense)             (None, 374)               293590    \n",
      "_________________________________________________________________\n",
      "dense_74 (Dense)             (None, 140)               52500     \n",
      "_________________________________________________________________\n",
      "dense_75 (Dense)             (None, 114)               16074     \n",
      "_________________________________________________________________\n",
      "dense_76 (Dense)             (None, 10)                1150      \n",
      "=================================================================\n",
      "Total params: 363,314\n",
      "Trainable params: 363,314\n",
      "Non-trainable params: 0\n",
      "_________________________________________________________________\n",
      "None\n",
      "Train on 60000 samples, validate on 10000 samples\n",
      "Epoch 1/20\n",
      "60000/60000 [==============================] - 11s 186us/step - loss: 0.2440 - acc: 0.9285 - val_loss: 0.1092 - val_acc: 0.9663\n",
      "Epoch 2/20\n",
      "60000/60000 [==============================] - 7s 124us/step - loss: 0.0904 - acc: 0.9722 - val_loss: 0.0760 - val_acc: 0.9759\n",
      "Epoch 3/20\n",
      "60000/60000 [==============================] - 7s 121us/step - loss: 0.0600 - acc: 0.9810 - val_loss: 0.0747 - val_acc: 0.9766\n",
      "Epoch 4/20\n",
      "60000/60000 [==============================] - 7s 122us/step - loss: 0.0412 - acc: 0.9868 - val_loss: 0.0729 - val_acc: 0.9782\n",
      "Epoch 5/20\n",
      "60000/60000 [==============================] - 7s 121us/step - loss: 0.0311 - acc: 0.9900 - val_loss: 0.0877 - val_acc: 0.9743\n",
      "Epoch 6/20\n",
      "60000/60000 [==============================] - 7s 124us/step - loss: 0.0233 - acc: 0.9923 - val_loss: 0.0779 - val_acc: 0.9784\n",
      "Epoch 7/20\n",
      "60000/60000 [==============================] - 7s 125us/step - loss: 0.0258 - acc: 0.9916 - val_loss: 0.0999 - val_acc: 0.9705\n",
      "Epoch 8/20\n",
      "60000/60000 [==============================] - 7s 121us/step - loss: 0.0197 - acc: 0.9932 - val_loss: 0.0875 - val_acc: 0.9765\n",
      "Epoch 9/20\n",
      "60000/60000 [==============================] - 7s 124us/step - loss: 0.0156 - acc: 0.9947 - val_loss: 0.0907 - val_acc: 0.9793\n",
      "Epoch 10/20\n",
      "60000/60000 [==============================] - 7s 122us/step - loss: 0.0171 - acc: 0.9942 - val_loss: 0.0947 - val_acc: 0.9763\n",
      "Epoch 11/20\n",
      "60000/60000 [==============================] - 8s 125us/step - loss: 0.0135 - acc: 0.9954 - val_loss: 0.0875 - val_acc: 0.9797\n",
      "Epoch 12/20\n",
      "60000/60000 [==============================] - 7s 123us/step - loss: 0.0141 - acc: 0.9952 - val_loss: 0.0907 - val_acc: 0.9776\n",
      "Epoch 13/20\n",
      "60000/60000 [==============================] - 8s 126us/step - loss: 0.0126 - acc: 0.9959 - val_loss: 0.0762 - val_acc: 0.9808\n",
      "Epoch 14/20\n",
      "60000/60000 [==============================] - 7s 124us/step - loss: 0.0120 - acc: 0.9958 - val_loss: 0.1004 - val_acc: 0.9771\n",
      "Epoch 15/20\n",
      "60000/60000 [==============================] - 8s 126us/step - loss: 0.0092 - acc: 0.9970 - val_loss: 0.0885 - val_acc: 0.9807\n",
      "Epoch 16/20\n",
      "60000/60000 [==============================] - 8s 126us/step - loss: 0.0103 - acc: 0.9970 - val_loss: 0.0887 - val_acc: 0.9773\n",
      "Epoch 17/20\n",
      "60000/60000 [==============================] - 7s 124us/step - loss: 0.0126 - acc: 0.9961 - val_loss: 0.0834 - val_acc: 0.9818\n",
      "Epoch 18/20\n",
      "60000/60000 [==============================] - 8s 133us/step - loss: 0.0060 - acc: 0.9980 - val_loss: 0.0802 - val_acc: 0.9831\n",
      "Epoch 19/20\n",
      "60000/60000 [==============================] - 8s 126us/step - loss: 0.0143 - acc: 0.9959 - val_loss: 0.1036 - val_acc: 0.9761\n",
      "Epoch 20/20\n",
      "60000/60000 [==============================] - 7s 123us/step - loss: 0.0086 - acc: 0.9972 - val_loss: 0.1088 - val_acc: 0.9786\n"
     ]
    }
   ],
   "source": [
    "model_relu = Sequential()\n",
    "model_relu.add(Dense(374, activation='relu', input_shape=(input_dim,),\n",
    "                     kernel_initializer=he_normal(seed=None)))\n",
    "model_relu.add(Dense(140, activation='relu', \n",
    "                     kernel_initializer=he_normal(seed=None)) )\n",
    "                                                    \n",
    "model_relu.add(Dense(114, activation='relu', \n",
    "                     kernel_initializer=he_normal(seed=None)) )\n",
    "model_relu.add(Dense(output_dim, activation='softmax'))\n",
    "\n",
    "print(model_relu.summary())\n",
    "\n",
    "model_relu.compile(optimizer='adam',\n",
    "                   loss='categorical_crossentropy',\n",
    "                   metrics=['accuracy'])\n",
    "\n",
    "history21 = model_relu.fit(X_train, Y_train, \n",
    "                         batch_size=batch_size, \n",
    "                         epochs=nb_epoch, verbose=1, \n",
    "                         validation_data=(X_test, Y_test))"
   ]
  },
  {
   "cell_type": "code",
   "execution_count": 158,
   "metadata": {
    "colab": {
     "base_uri": "https://localhost:8080/",
     "height": 319
    },
    "colab_type": "code",
    "id": "PZIsCKEorlCQ",
    "outputId": "658b2672-761a-40f2-9059-4eb8ada836cb"
   },
   "outputs": [
    {
     "name": "stdout",
     "output_type": "stream",
     "text": [
      "Test score: 0.10880283313435166\n",
      "Test accuracy: 0.9786\n"
     ]
    },
    {
     "data": {
      "image/png": "[encoded data removed]",
      "text/plain": [
       "<Figure size 432x288 with 1 Axes>"
      ]
     },
     "metadata": {
      "tags": []
     },
     "output_type": "display_data"
    }
   ],
   "source": [
    "score = model_relu.evaluate(X_test, Y_test, verbose=0) \n",
    "score7=score[0]\n",
    "score8=score[1]\n",
    "train_acc4=history11.history['acc']\n",
    "print('Test score:', score[0]) \n",
    "print('Test accuracy:', score[1])\n",
    "\n",
    "fig,ax21 = plt.subplots(1,1)\n",
    "ax21.set_xlabel('epoch') ; ax21.set_ylabel('Categorical Crossentropy Loss')\n",
    "\n",
    "# list of epoch numbers\n",
    "x = list(range(1,nb_epoch+1))\n",
    "\n",
    "\n",
    "vy21 = history21.history['val_loss']\n",
    "ty21 = history21.history['loss']\n",
    "plt_dynamic(x, vy21, ty21, ax21)"
   ]
  },
  {
   "cell_type": "markdown",
   "metadata": {
    "colab_type": "text",
    "id": "k6eJkkJewTU8"
   },
   "source": [
    "<h2>2.2 MLP + Batch-Norm on hidden Layers + AdamOptimizer</h2>"
   ]
  },
  {
   "cell_type": "code",
   "execution_count": 0,
   "metadata": {
    "colab": {},
    "colab_type": "code",
    "id": "slB6gfyawXvl"
   },
   "outputs": [],
   "source": [
    "from keras.layers.normalization import BatchNormalization\n",
    "\n",
    "model_batch = Sequential()\n",
    "\n",
    "model_relu.add(Dense(374, activation='relu', input_shape=(input_dim,),\n",
    "                     kernel_initializer=he_normal(seed=None)))\n",
    "model_batch.add(BatchNormalization())\n",
    "model_relu.add(Dense(140, activation='relu', \n",
    "                     kernel_initializer=he_normal(seed=None)) )\n",
    "model_batch.add(BatchNormalization())\n",
    "                                                    \n",
    "model_relu.add(Dense(114, activation='relu', \n",
    "                     kernel_initializer=he_normal(seed=None)) )\n",
    "model_batch.add(BatchNormalization())\n",
    "\n",
    "model_batch.add(Dense(output_dim, activation='softmax'))"
   ]
  },
  {
   "cell_type": "code",
   "execution_count": 160,
   "metadata": {
    "colab": {
     "base_uri": "https://localhost:8080/",
     "height": 750
    },
    "colab_type": "code",
    "id": "8sHISPFTwh4D",
    "outputId": "52e14015-3a2b-4eb3-b36b-33b295fdf4eb"
   },
   "outputs": [
    {
     "name": "stdout",
     "output_type": "stream",
     "text": [
      "Train on 60000 samples, validate on 10000 samples\n",
      "Epoch 1/20\n",
      "60000/60000 [==============================] - 11s 189us/step - loss: 0.4999 - acc: 0.8503 - val_loss: 3.8705 - val_acc: 0.4515\n",
      "Epoch 2/20\n",
      "60000/60000 [==============================] - 7s 110us/step - loss: 0.3057 - acc: 0.9126 - val_loss: 0.5833 - val_acc: 0.8581\n",
      "Epoch 3/20\n",
      "60000/60000 [==============================] - 7s 113us/step - loss: 0.2872 - acc: 0.9178 - val_loss: 3.8988 - val_acc: 0.5002\n",
      "Epoch 4/20\n",
      "60000/60000 [==============================] - 7s 111us/step - loss: 0.2792 - acc: 0.9208 - val_loss: 1.7993 - val_acc: 0.6134\n",
      "Epoch 5/20\n",
      "60000/60000 [==============================] - 7s 110us/step - loss: 0.2721 - acc: 0.9232 - val_loss: 0.9218 - val_acc: 0.7855\n",
      "Epoch 6/20\n",
      "60000/60000 [==============================] - 7s 114us/step - loss: 0.2684 - acc: 0.9244 - val_loss: 4.0124 - val_acc: 0.3820\n",
      "Epoch 7/20\n",
      "60000/60000 [==============================] - 7s 111us/step - loss: 0.2663 - acc: 0.9249 - val_loss: 3.5114 - val_acc: 0.5176\n",
      "Epoch 8/20\n",
      "60000/60000 [==============================] - 7s 111us/step - loss: 0.2623 - acc: 0.9261 - val_loss: 1.7886 - val_acc: 0.6470\n",
      "Epoch 9/20\n",
      "60000/60000 [==============================] - 7s 112us/step - loss: 0.2607 - acc: 0.9263 - val_loss: 1.3879 - val_acc: 0.6556\n",
      "Epoch 10/20\n",
      "60000/60000 [==============================] - 7s 110us/step - loss: 0.2596 - acc: 0.9269 - val_loss: 0.6773 - val_acc: 0.8420\n",
      "Epoch 11/20\n",
      "60000/60000 [==============================] - 6s 108us/step - loss: 0.2606 - acc: 0.9268 - val_loss: 2.3073 - val_acc: 0.5400\n",
      "Epoch 12/20\n",
      "60000/60000 [==============================] - 7s 112us/step - loss: 0.2573 - acc: 0.9271 - val_loss: 0.7904 - val_acc: 0.8232\n",
      "Epoch 13/20\n",
      "60000/60000 [==============================] - 7s 109us/step - loss: 0.2579 - acc: 0.9276 - val_loss: 0.6950 - val_acc: 0.8428\n",
      "Epoch 14/20\n",
      "60000/60000 [==============================] - 7s 109us/step - loss: 0.2546 - acc: 0.9280 - val_loss: 3.4202 - val_acc: 0.5287\n",
      "Epoch 15/20\n",
      "60000/60000 [==============================] - 6s 106us/step - loss: 0.2553 - acc: 0.9283 - val_loss: 3.3825 - val_acc: 0.5243\n",
      "Epoch 16/20\n",
      "60000/60000 [==============================] - 7s 110us/step - loss: 0.2540 - acc: 0.9281 - val_loss: 4.3233 - val_acc: 0.4859\n",
      "Epoch 17/20\n",
      "60000/60000 [==============================] - 7s 109us/step - loss: 0.2514 - acc: 0.9282 - val_loss: 2.3687 - val_acc: 0.5737\n",
      "Epoch 18/20\n",
      "60000/60000 [==============================] - 6s 107us/step - loss: 0.2518 - acc: 0.9292 - val_loss: 1.1346 - val_acc: 0.7064\n",
      "Epoch 19/20\n",
      "60000/60000 [==============================] - 6s 108us/step - loss: 0.2539 - acc: 0.9294 - val_loss: 7.1519 - val_acc: 0.2463\n",
      "Epoch 20/20\n",
      "60000/60000 [==============================] - 6s 108us/step - loss: 0.2515 - acc: 0.9302 - val_loss: 0.6937 - val_acc: 0.8416\n"
     ]
    }
   ],
   "source": [
    "model_batch.compile(optimizer='adam', loss='categorical_crossentropy', \n",
    "                    metrics=['accuracy'])\n",
    "\n",
    "history22 = model_batch.fit(X_train, Y_train, \n",
    "                           batch_size=batch_size,\n",
    "                           epochs=nb_epoch, verbose=1, \n",
    "                           validation_data=(X_test, Y_test))"
   ]
  },
  {
   "cell_type": "code",
   "execution_count": 161,
   "metadata": {
    "colab": {
     "base_uri": "https://localhost:8080/",
     "height": 285
    },
    "colab_type": "code",
    "id": "3Q3OrpvpwogM",
    "outputId": "0b5c8d18-ae0b-4306-ecf5-a981852cdc7f"
   },
   "outputs": [
    {
     "name": "stdout",
     "output_type": "stream",
     "text": [
      "_________________________________________________________________\n",
      "Layer (type)                 Output Shape              Param #   \n",
      "=================================================================\n",
      "batch_normalization_35 (Batc (None, 784)               3136      \n",
      "_________________________________________________________________\n",
      "batch_normalization_36 (Batc (None, 784)               3136      \n",
      "_________________________________________________________________\n",
      "batch_normalization_37 (Batc (None, 784)               3136      \n",
      "_________________________________________________________________\n",
      "dense_80 (Dense)             (None, 10)                7850      \n",
      "=================================================================\n",
      "Total params: 17,258\n",
      "Trainable params: 12,554\n",
      "Non-trainable params: 4,704\n",
      "_________________________________________________________________\n"
     ]
    }
   ],
   "source": [
    "model_batch.summary()"
   ]
  },
  {
   "cell_type": "code",
   "execution_count": 162,
   "metadata": {
    "colab": {
     "base_uri": "https://localhost:8080/",
     "height": 319
    },
    "colab_type": "code",
    "id": "ch3vexJSxOt6",
    "outputId": "51fdf36d-5eee-46f6-f290-e9038e00defd"
   },
   "outputs": [
    {
     "name": "stdout",
     "output_type": "stream",
     "text": [
      "Test score: 0.6937280797123909\n",
      "Test accuracy: 0.8416\n"
     ]
    },
    {
     "data": {
      "image/png": "[encoded data removed]",
      "text/plain": [
       "<Figure size 432x288 with 1 Axes>"
      ]
     },
     "metadata": {
      "tags": []
     },
     "output_type": "display_data"
    }
   ],
   "source": [
    "score = model_batch.evaluate(X_test, Y_test, verbose=0) \n",
    "score9=score[0]\n",
    "score10=score[1]\n",
    "train_acc5=history11.history['acc']\n",
    "print('Test score:', score[0]) \n",
    "print('Test accuracy:', score[1])\n",
    "\n",
    "fig,ax22 = plt.subplots(1,1)\n",
    "ax22.set_xlabel('epoch') ; ax22.set_ylabel('Categorical Crossentropy Loss')\n",
    "\n",
    "# list of epoch numbers\n",
    "x = list(range(1,nb_epoch+1))\n",
    "\n",
    "vy22 = history22.history['val_loss']\n",
    "ty22 = history22.history['loss']\n",
    "plt_dynamic(x, vy22, ty22, ax22)"
   ]
  },
  {
   "cell_type": "markdown",
   "metadata": {
    "colab_type": "text",
    "id": "0tkD1NGsxaMl"
   },
   "source": [
    "<h2>2.3 MLP + Dropout + AdamOptimizer</h2>"
   ]
  },
  {
   "cell_type": "code",
   "execution_count": 0,
   "metadata": {
    "colab": {},
    "colab_type": "code",
    "id": "gjKNvP_RxU0v"
   },
   "outputs": [],
   "source": [
    "# https://stackoverflow.com/questions/34716454/where-do-i-call-the-batchnormalization-function-in-keras\n",
    "\n",
    "from keras.layers import Dropout\n",
    "\n",
    "model_drop = Sequential()\n",
    "model_relu.add(Dense(374, activation='relu', input_shape=(input_dim,),\n",
    "                     kernel_initializer=he_normal(seed=None)))\n",
    "\n",
    "model_drop.add(BatchNormalization())\n",
    "model_drop.add(Dropout(0.5))\n",
    "model_relu.add(Dense(140, activation='relu', \n",
    "                     kernel_initializer=he_normal(seed=None)) )\n",
    "model_drop.add(BatchNormalization())\n",
    "model_drop.add(Dropout(0.5))\n",
    "\n",
    "                                                    \n",
    "model_relu.add(Dense(114, activation='relu', \n",
    "                     kernel_initializer=he_normal(seed=None)) )\n",
    "model_drop.add(BatchNormalization())\n",
    "model_drop.add(Dropout(0.5))\n",
    "\n",
    "model_drop.add(Dense(output_dim, activation='softmax'))"
   ]
  },
  {
   "cell_type": "code",
   "execution_count": 164,
   "metadata": {
    "colab": {
     "base_uri": "https://localhost:8080/",
     "height": 750
    },
    "colab_type": "code",
    "id": "kKWniPnhxfgq",
    "outputId": "b50b65f4-55f3-45d7-950f-a88600c93662"
   },
   "outputs": [
    {
     "name": "stdout",
     "output_type": "stream",
     "text": [
      "Train on 60000 samples, validate on 10000 samples\n",
      "Epoch 1/20\n",
      "60000/60000 [==============================] - 14s 230us/step - loss: 1.3548 - acc: 0.5674 - val_loss: 0.4997 - val_acc: 0.8810\n",
      "Epoch 2/20\n",
      "60000/60000 [==============================] - 9s 144us/step - loss: 0.8594 - acc: 0.7203 - val_loss: 0.4482 - val_acc: 0.8865\n",
      "Epoch 3/20\n",
      "60000/60000 [==============================] - 9s 156us/step - loss: 0.8360 - acc: 0.7286 - val_loss: 0.4370 - val_acc: 0.8915\n",
      "Epoch 4/20\n",
      "60000/60000 [==============================] - 9s 145us/step - loss: 0.8291 - acc: 0.7310 - val_loss: 0.4213 - val_acc: 0.8924\n",
      "Epoch 5/20\n",
      "60000/60000 [==============================] - 8s 141us/step - loss: 0.8298 - acc: 0.7300 - val_loss: 0.4286 - val_acc: 0.8941\n",
      "Epoch 6/20\n",
      "60000/60000 [==============================] - 8s 137us/step - loss: 0.8273 - acc: 0.7303 - val_loss: 0.4214 - val_acc: 0.8962\n",
      "Epoch 7/20\n",
      "60000/60000 [==============================] - 8s 134us/step - loss: 0.8294 - acc: 0.7310 - val_loss: 0.4173 - val_acc: 0.8946\n",
      "Epoch 8/20\n",
      "60000/60000 [==============================] - 8s 132us/step - loss: 0.8180 - acc: 0.7335 - val_loss: 0.4205 - val_acc: 0.8946\n",
      "Epoch 9/20\n",
      "60000/60000 [==============================] - 8s 138us/step - loss: 0.8219 - acc: 0.7323 - val_loss: 0.4192 - val_acc: 0.8920\n",
      "Epoch 10/20\n",
      "60000/60000 [==============================] - 8s 137us/step - loss: 0.8191 - acc: 0.7342 - val_loss: 0.4154 - val_acc: 0.8942\n",
      "Epoch 11/20\n",
      "60000/60000 [==============================] - 8s 136us/step - loss: 0.8110 - acc: 0.7354 - val_loss: 0.4079 - val_acc: 0.8986\n",
      "Epoch 12/20\n",
      "60000/60000 [==============================] - 9s 145us/step - loss: 0.8145 - acc: 0.7376 - val_loss: 0.4130 - val_acc: 0.8951\n",
      "Epoch 13/20\n",
      "60000/60000 [==============================] - 8s 138us/step - loss: 0.8162 - acc: 0.7369 - val_loss: 0.4096 - val_acc: 0.8960\n",
      "Epoch 14/20\n",
      "60000/60000 [==============================] - 8s 136us/step - loss: 0.8135 - acc: 0.7373 - val_loss: 0.4047 - val_acc: 0.8985\n",
      "Epoch 15/20\n",
      "60000/60000 [==============================] - 8s 137us/step - loss: 0.8114 - acc: 0.7366 - val_loss: 0.4062 - val_acc: 0.8962\n",
      "Epoch 16/20\n",
      "60000/60000 [==============================] - 8s 136us/step - loss: 0.8112 - acc: 0.7373 - val_loss: 0.4124 - val_acc: 0.8959\n",
      "Epoch 17/20\n",
      "60000/60000 [==============================] - 8s 138us/step - loss: 0.8081 - acc: 0.7389 - val_loss: 0.4080 - val_acc: 0.8961\n",
      "Epoch 18/20\n",
      "60000/60000 [==============================] - 8s 137us/step - loss: 0.8106 - acc: 0.7385 - val_loss: 0.4050 - val_acc: 0.8970\n",
      "Epoch 19/20\n",
      "60000/60000 [==============================] - 8s 136us/step - loss: 0.8148 - acc: 0.7369 - val_loss: 0.4053 - val_acc: 0.8984\n",
      "Epoch 20/20\n",
      "60000/60000 [==============================] - 8s 138us/step - loss: 0.8073 - acc: 0.7384 - val_loss: 0.4046 - val_acc: 0.8989\n"
     ]
    }
   ],
   "source": [
    "model_drop.compile(optimizer='adam',\n",
    "                   loss='categorical_crossentropy',\n",
    "                   metrics=['accuracy'])\n",
    "\n",
    "history23 = model_drop.fit(X_train, Y_train,\n",
    "                         batch_size=batch_size,\n",
    "                         \n",
    "                         epochs=nb_epoch, verbose=1,\n",
    "                         validation_data=(X_test, Y_test))"
   ]
  },
  {
   "cell_type": "code",
   "execution_count": 165,
   "metadata": {
    "colab": {
     "base_uri": "https://localhost:8080/",
     "height": 392
    },
    "colab_type": "code",
    "id": "nA8IplRLx7Ej",
    "outputId": "c8c0e4eb-500d-4a1b-e5fd-0c4a37fee727"
   },
   "outputs": [
    {
     "name": "stdout",
     "output_type": "stream",
     "text": [
      "_________________________________________________________________\n",
      "Layer (type)                 Output Shape              Param #   \n",
      "=================================================================\n",
      "batch_normalization_38 (Batc (None, 784)               3136      \n",
      "_________________________________________________________________\n",
      "dropout_18 (Dropout)         (None, 784)               0         \n",
      "_________________________________________________________________\n",
      "batch_normalization_39 (Batc (None, 784)               3136      \n",
      "_________________________________________________________________\n",
      "dropout_19 (Dropout)         (None, 784)               0         \n",
      "_________________________________________________________________\n",
      "batch_normalization_40 (Batc (None, 784)               3136      \n",
      "_________________________________________________________________\n",
      "dropout_20 (Dropout)         (None, 784)               0         \n",
      "_________________________________________________________________\n",
      "dense_84 (Dense)             (None, 10)                7850      \n",
      "=================================================================\n",
      "Total params: 17,258\n",
      "Trainable params: 12,554\n",
      "Non-trainable params: 4,704\n",
      "_________________________________________________________________\n"
     ]
    }
   ],
   "source": [
    "model_drop.summary()"
   ]
  },
  {
   "cell_type": "code",
   "execution_count": 166,
   "metadata": {
    "colab": {
     "base_uri": "https://localhost:8080/",
     "height": 319
    },
    "colab_type": "code",
    "id": "qeze3iztyN-G",
    "outputId": "20bbd1ee-741a-49bf-afd0-35b97790d8f3"
   },
   "outputs": [
    {
     "name": "stdout",
     "output_type": "stream",
     "text": [
      "Test score: 0.4045674772977829\n",
      "Test accuracy: 0.8989\n"
     ]
    },
    {
     "data": {
      "image/png": "[encoded data removed]",
      "text/plain": [
       "<Figure size 432x288 with 1 Axes>"
      ]
     },
     "metadata": {
      "tags": []
     },
     "output_type": "display_data"
    }
   ],
   "source": [
    "score = model_drop.evaluate(X_test, Y_test, verbose=0)\n",
    "score11=score[0]\n",
    "score12=score[1]\n",
    "train_acc6=history11.history['acc']\n",
    "print('Test score:', score[0]) \n",
    "print('Test accuracy:', score[1])\n",
    "\n",
    "fig,ax23 = plt.subplots(1,1)\n",
    "ax23.set_xlabel('epoch') ; ax23.set_ylabel('Categorical Crossentropy Loss')\n",
    "\n",
    "# list of epoch numbers\n",
    "x = list(range(1,nb_epoch+1))\n",
    "\n",
    "\n",
    "vy23 = history23.history['val_loss']\n",
    "ty23 = history23.history['loss']\n",
    "plt_dynamic(x, vy23, ty23, ax23)"
   ]
  },
  {
   "cell_type": "markdown",
   "metadata": {
    "colab_type": "text",
    "id": "diXMAlaAyj6Y"
   },
   "source": [
    "<h2>3) 5-Hidden layer architecture (784-270-170-124-74-24-10 architecture)</h2>"
   ]
  },
  {
   "cell_type": "markdown",
   "metadata": {
    "colab_type": "text",
    "id": "kMxAXEmOy8ZV"
   },
   "source": [
    "<h2>3.1 MLP + ReLU activation + ADAM Optimizer</h2>\n",
    "\n",
    "> Indented block\n",
    "\n"
   ]
  },
  {
   "cell_type": "code",
   "execution_count": 167,
   "metadata": {
    "colab": {
     "base_uri": "https://localhost:8080/",
     "height": 1107
    },
    "colab_type": "code",
    "id": "RbL2479Vy14v",
    "outputId": "29d96945-70f2-426d-c3a4-918d60b7f5bc"
   },
   "outputs": [
    {
     "name": "stdout",
     "output_type": "stream",
     "text": [
      "_________________________________________________________________\n",
      "Layer (type)                 Output Shape              Param #   \n",
      "=================================================================\n",
      "dense_85 (Dense)             (None, 270)               211950    \n",
      "_________________________________________________________________\n",
      "dense_86 (Dense)             (None, 170)               46070     \n",
      "_________________________________________________________________\n",
      "dense_87 (Dense)             (None, 124)               21204     \n",
      "_________________________________________________________________\n",
      "dense_88 (Dense)             (None, 74)                9250      \n",
      "_________________________________________________________________\n",
      "dense_89 (Dense)             (None, 24)                1800      \n",
      "_________________________________________________________________\n",
      "dense_90 (Dense)             (None, 10)                250       \n",
      "=================================================================\n",
      "Total params: 290,524\n",
      "Trainable params: 290,524\n",
      "Non-trainable params: 0\n",
      "_________________________________________________________________\n",
      "None\n",
      "Train on 60000 samples, validate on 10000 samples\n",
      "Epoch 1/20\n",
      "60000/60000 [==============================] - 11s 188us/step - loss: 0.2971 - acc: 0.9118 - val_loss: 0.1437 - val_acc: 0.9553\n",
      "Epoch 2/20\n",
      "60000/60000 [==============================] - 7s 111us/step - loss: 0.1043 - acc: 0.9679 - val_loss: 0.1112 - val_acc: 0.9668\n",
      "Epoch 3/20\n",
      "60000/60000 [==============================] - 7s 113us/step - loss: 0.0702 - acc: 0.9783 - val_loss: 0.1010 - val_acc: 0.9704\n",
      "Epoch 4/20\n",
      "60000/60000 [==============================] - 7s 110us/step - loss: 0.0518 - acc: 0.9835 - val_loss: 0.0784 - val_acc: 0.9745\n",
      "Epoch 5/20\n",
      "60000/60000 [==============================] - 7s 111us/step - loss: 0.0417 - acc: 0.9869 - val_loss: 0.0887 - val_acc: 0.9756\n",
      "Epoch 6/20\n",
      "60000/60000 [==============================] - 7s 109us/step - loss: 0.0336 - acc: 0.9893 - val_loss: 0.0771 - val_acc: 0.9795\n",
      "Epoch 7/20\n",
      "60000/60000 [==============================] - 7s 110us/step - loss: 0.0311 - acc: 0.9898 - val_loss: 0.0674 - val_acc: 0.9810\n",
      "Epoch 8/20\n",
      "60000/60000 [==============================] - 7s 113us/step - loss: 0.0260 - acc: 0.9914 - val_loss: 0.0939 - val_acc: 0.9740\n",
      "Epoch 9/20\n",
      "60000/60000 [==============================] - 7s 110us/step - loss: 0.0209 - acc: 0.9933 - val_loss: 0.0797 - val_acc: 0.9783\n",
      "Epoch 10/20\n",
      "60000/60000 [==============================] - 7s 111us/step - loss: 0.0173 - acc: 0.9945 - val_loss: 0.0893 - val_acc: 0.9767\n",
      "Epoch 11/20\n",
      "60000/60000 [==============================] - 7s 110us/step - loss: 0.0235 - acc: 0.9927 - val_loss: 0.0888 - val_acc: 0.9771\n",
      "Epoch 12/20\n",
      "60000/60000 [==============================] - 7s 110us/step - loss: 0.0166 - acc: 0.9945 - val_loss: 0.1143 - val_acc: 0.9749\n",
      "Epoch 13/20\n",
      "60000/60000 [==============================] - 7s 110us/step - loss: 0.0153 - acc: 0.9952 - val_loss: 0.1057 - val_acc: 0.9740\n",
      "Epoch 14/20\n",
      "60000/60000 [==============================] - 7s 109us/step - loss: 0.0145 - acc: 0.9951 - val_loss: 0.0811 - val_acc: 0.9806\n",
      "Epoch 15/20\n",
      "60000/60000 [==============================] - 7s 109us/step - loss: 0.0161 - acc: 0.9946 - val_loss: 0.0781 - val_acc: 0.9797\n",
      "Epoch 16/20\n",
      "60000/60000 [==============================] - 7s 110us/step - loss: 0.0109 - acc: 0.9967 - val_loss: 0.0865 - val_acc: 0.9802\n",
      "Epoch 17/20\n",
      "60000/60000 [==============================] - 7s 110us/step - loss: 0.0118 - acc: 0.9961 - val_loss: 0.1128 - val_acc: 0.9741\n",
      "Epoch 18/20\n",
      "60000/60000 [==============================] - 7s 115us/step - loss: 0.0112 - acc: 0.9964 - val_loss: 0.1014 - val_acc: 0.9772\n",
      "Epoch 19/20\n",
      "60000/60000 [==============================] - 7s 118us/step - loss: 0.0139 - acc: 0.9958 - val_loss: 0.0883 - val_acc: 0.9816\n",
      "Epoch 20/20\n",
      "60000/60000 [==============================] - 7s 113us/step - loss: 0.0103 - acc: 0.9965 - val_loss: 0.0896 - val_acc: 0.9831\n"
     ]
    }
   ],
   "source": [
    "model_relu = Sequential()\n",
    "model_relu.add(Dense(270, activation='relu', input_shape=(input_dim,),\n",
    "                     kernel_initializer=he_normal(seed=None)))\n",
    "model_relu.add(Dense(170, activation='relu', \n",
    "                     kernel_initializer=he_normal(seed=None)) )\n",
    "                                                    \n",
    "model_relu.add(Dense(124, activation='relu', \n",
    "                     kernel_initializer=he_normal(seed=None)) )\n",
    "model_relu.add(Dense(74, activation='relu', \n",
    "                     kernel_initializer=he_normal(seed=None)) )\n",
    "                                                    \n",
    "model_relu.add(Dense(24, activation='relu', \n",
    "                     kernel_initializer=he_normal(seed=None)) )\n",
    "model_relu.add(Dense(output_dim, activation='softmax'))\n",
    "\n",
    "print(model_relu.summary())\n",
    "\n",
    "model_relu.compile(optimizer='adam',\n",
    "                   loss='categorical_crossentropy',\n",
    "                   metrics=['accuracy'])\n",
    "\n",
    "history31 = model_relu.fit(X_train, Y_train, \n",
    "                         batch_size=batch_size, \n",
    "                         epochs=nb_epoch, verbose=1, \n",
    "                         validation_data=(X_test, Y_test))"
   ]
  },
  {
   "cell_type": "code",
   "execution_count": 168,
   "metadata": {
    "colab": {
     "base_uri": "https://localhost:8080/",
     "height": 319
    },
    "colab_type": "code",
    "id": "948CLhGpzZE6",
    "outputId": "835a81bf-1fc9-473c-c28a-ef3e05ac9ffd"
   },
   "outputs": [
    {
     "name": "stdout",
     "output_type": "stream",
     "text": [
      "Test score: 0.08955217869340677\n",
      "Test accuracy: 0.9831\n"
     ]
    },
    {
     "data": {
      "image/png": "[encoded data removed]",
      "text/plain": [
       "<Figure size 432x288 with 1 Axes>"
      ]
     },
     "metadata": {
      "tags": []
     },
     "output_type": "display_data"
    }
   ],
   "source": [
    "score = model_relu.evaluate(X_test, Y_test, verbose=0) \n",
    "score13=score[0]\n",
    "score14=score[1]\n",
    "train_acc7=history11.history['acc']\n",
    "print('Test score:', score[0]) \n",
    "print('Test accuracy:', score[1])\n",
    "\n",
    "fig,ax31 = plt.subplots(1,1)\n",
    "ax31.set_xlabel('epoch') ; ax31.set_ylabel('Categorical Crossentropy Loss')\n",
    "\n",
    "# list of epoch numbers\n",
    "x = list(range(1,nb_epoch+1))\n",
    "\n",
    "\n",
    "vy31 = history31.history['val_loss']\n",
    "ty31 = history31.history['loss']\n",
    "plt_dynamic(x, vy31, ty31, ax31)"
   ]
  },
  {
   "cell_type": "markdown",
   "metadata": {
    "colab_type": "text",
    "id": "gxO6pVaJz7mf"
   },
   "source": [
    "<h2>3.2 MLP + Batch-Norm on hidden Layers + AdamOptimizer</h2>"
   ]
  },
  {
   "cell_type": "code",
   "execution_count": 0,
   "metadata": {
    "colab": {},
    "colab_type": "code",
    "id": "5bUfH8ILz2xW"
   },
   "outputs": [],
   "source": [
    "\n",
    "\n",
    "from keras.layers.normalization import BatchNormalization\n",
    "\n",
    "model_batch = Sequential()\n",
    "\n",
    "model_relu.add(Dense(270, activation='relu', input_shape=(input_dim,),\n",
    "                     kernel_initializer=he_normal(seed=None)))\n",
    "model_batch.add(BatchNormalization())\n",
    "model_relu.add(Dense(170, activation='relu', \n",
    "                     kernel_initializer=he_normal(seed=None)) )\n",
    "model_batch.add(BatchNormalization())\n",
    "                                                    \n",
    "model_relu.add(Dense(124, activation='relu', \n",
    "                     kernel_initializer=he_normal(seed=None)) )\n",
    "model_batch.add(BatchNormalization())\n",
    "model_relu.add(Dense(74, activation='relu', \n",
    "                     kernel_initializer=he_normal(seed=None)) )\n",
    "model_batch.add(BatchNormalization())\n",
    "                                                    \n",
    "model_relu.add(Dense(24, activation='relu', \n",
    "                     kernel_initializer=he_normal(seed=None)) )\n",
    "model_batch.add(BatchNormalization())\n",
    "\n",
    "model_batch.add(Dense(output_dim, activation='softmax'))"
   ]
  },
  {
   "cell_type": "code",
   "execution_count": 170,
   "metadata": {
    "colab": {
     "base_uri": "https://localhost:8080/",
     "height": 750
    },
    "colab_type": "code",
    "id": "v2F4ZwmL0OoY",
    "outputId": "825d8848-4a1a-4edf-dfca-cbef5811ad29"
   },
   "outputs": [
    {
     "name": "stdout",
     "output_type": "stream",
     "text": [
      "Train on 60000 samples, validate on 10000 samples\n",
      "Epoch 1/20\n",
      "60000/60000 [==============================] - 15s 246us/step - loss: 0.4994 - acc: 0.8518 - val_loss: 14.2871 - val_acc: 0.1136\n",
      "Epoch 2/20\n",
      "60000/60000 [==============================] - 8s 140us/step - loss: 0.3071 - acc: 0.9131 - val_loss: 14.6755 - val_acc: 0.0895\n",
      "Epoch 3/20\n",
      "60000/60000 [==============================] - 9s 145us/step - loss: 0.2850 - acc: 0.9193 - val_loss: 14.2855 - val_acc: 0.1137\n",
      "Epoch 4/20\n",
      "60000/60000 [==============================] - 8s 141us/step - loss: 0.2787 - acc: 0.9214 - val_loss: 14.5382 - val_acc: 0.0980\n",
      "Epoch 5/20\n",
      "60000/60000 [==============================] - 8s 138us/step - loss: 0.2710 - acc: 0.9238 - val_loss: 14.4869 - val_acc: 0.1012\n",
      "Epoch 6/20\n",
      "60000/60000 [==============================] - 8s 139us/step - loss: 0.2686 - acc: 0.9249 - val_loss: 14.2887 - val_acc: 0.1135\n",
      "Epoch 7/20\n",
      "60000/60000 [==============================] - 8s 138us/step - loss: 0.2649 - acc: 0.9244 - val_loss: 14.5369 - val_acc: 0.0981\n",
      "Epoch 8/20\n",
      "60000/60000 [==============================] - 8s 140us/step - loss: 0.2648 - acc: 0.9254 - val_loss: 14.4886 - val_acc: 0.1011\n",
      "Epoch 9/20\n",
      "60000/60000 [==============================] - 8s 139us/step - loss: 0.2625 - acc: 0.9264 - val_loss: 14.5385 - val_acc: 0.0980\n",
      "Epoch 10/20\n",
      "60000/60000 [==============================] - 8s 140us/step - loss: 0.2600 - acc: 0.9264 - val_loss: 14.5466 - val_acc: 0.0975\n",
      "Epoch 11/20\n",
      "60000/60000 [==============================] - 9s 142us/step - loss: 0.2580 - acc: 0.9275 - val_loss: 14.2871 - val_acc: 0.1136\n",
      "Epoch 12/20\n",
      "60000/60000 [==============================] - 8s 141us/step - loss: 0.2598 - acc: 0.9280 - val_loss: 14.5740 - val_acc: 0.0958\n",
      "Epoch 13/20\n",
      "60000/60000 [==============================] - 9s 145us/step - loss: 0.2558 - acc: 0.9287 - val_loss: 14.2855 - val_acc: 0.1137\n",
      "Epoch 14/20\n",
      "60000/60000 [==============================] - 8s 140us/step - loss: 0.2558 - acc: 0.9287 - val_loss: 14.5482 - val_acc: 0.0974\n",
      "Epoch 15/20\n",
      "60000/60000 [==============================] - 9s 143us/step - loss: 0.2549 - acc: 0.9285 - val_loss: 14.5417 - val_acc: 0.0978\n",
      "Epoch 16/20\n",
      "60000/60000 [==============================] - 8s 140us/step - loss: 0.2556 - acc: 0.9281 - val_loss: 14.2839 - val_acc: 0.1138\n",
      "Epoch 17/20\n",
      "60000/60000 [==============================] - 8s 141us/step - loss: 0.2546 - acc: 0.9279 - val_loss: 14.5224 - val_acc: 0.0990\n",
      "Epoch 18/20\n",
      "60000/60000 [==============================] - 9s 144us/step - loss: 0.2549 - acc: 0.9284 - val_loss: 14.5514 - val_acc: 0.0972\n",
      "Epoch 19/20\n",
      "60000/60000 [==============================] - 9s 142us/step - loss: 0.2524 - acc: 0.9295 - val_loss: 14.2871 - val_acc: 0.1136\n",
      "Epoch 20/20\n",
      "60000/60000 [==============================] - 8s 140us/step - loss: 0.2515 - acc: 0.9290 - val_loss: 14.2871 - val_acc: 0.1136\n"
     ]
    }
   ],
   "source": [
    "model_batch.compile(optimizer='adam', loss='categorical_crossentropy', \n",
    "                    metrics=['accuracy'])\n",
    "\n",
    "history32 = model_batch.fit(X_train, Y_train, \n",
    "                           batch_size=batch_size,\n",
    "                           epochs=nb_epoch, verbose=1, \n",
    "                           validation_data=(X_test, Y_test))"
   ]
  },
  {
   "cell_type": "code",
   "execution_count": 171,
   "metadata": {
    "colab": {
     "base_uri": "https://localhost:8080/",
     "height": 356
    },
    "colab_type": "code",
    "id": "Ec6HVOI70UbV",
    "outputId": "2c21ba13-beca-4fe1-9e5d-2c6dc6fa1e65"
   },
   "outputs": [
    {
     "name": "stdout",
     "output_type": "stream",
     "text": [
      "_________________________________________________________________\n",
      "Layer (type)                 Output Shape              Param #   \n",
      "=================================================================\n",
      "batch_normalization_41 (Batc (None, 784)               3136      \n",
      "_________________________________________________________________\n",
      "batch_normalization_42 (Batc (None, 784)               3136      \n",
      "_________________________________________________________________\n",
      "batch_normalization_43 (Batc (None, 784)               3136      \n",
      "_________________________________________________________________\n",
      "batch_normalization_44 (Batc (None, 784)               3136      \n",
      "_________________________________________________________________\n",
      "batch_normalization_45 (Batc (None, 784)               3136      \n",
      "_________________________________________________________________\n",
      "dense_96 (Dense)             (None, 10)                7850      \n",
      "=================================================================\n",
      "Total params: 23,530\n",
      "Trainable params: 15,690\n",
      "Non-trainable params: 7,840\n",
      "_________________________________________________________________\n"
     ]
    }
   ],
   "source": [
    "model_batch.summary()"
   ]
  },
  {
   "cell_type": "code",
   "execution_count": 172,
   "metadata": {
    "colab": {
     "base_uri": "https://localhost:8080/",
     "height": 319
    },
    "colab_type": "code",
    "id": "bWvmbxT80iS2",
    "outputId": "d4f62670-44bf-4337-d9e8-743472248e04"
   },
   "outputs": [
    {
     "name": "stdout",
     "output_type": "stream",
     "text": [
      "Test score: 14.287079652404785\n",
      "Test accuracy: 0.1136\n"
     ]
    },
    {
     "data": {
      "image/png": "[encoded data removed]",
      "text/plain": [
       "<Figure size 432x288 with 1 Axes>"
      ]
     },
     "metadata": {
      "tags": []
     },
     "output_type": "display_data"
    }
   ],
   "source": [
    "score = model_batch.evaluate(X_test, Y_test, verbose=0) \n",
    "score15=score[0]\n",
    "score16=score[1]\n",
    "train_acc8=history32.history['acc']\n",
    "print('Test score:', score[0]) \n",
    "print('Test accuracy:', score[1])\n",
    "\n",
    "fig,ax32 = plt.subplots(1,1)\n",
    "ax32.set_xlabel('epoch') ; ax32.set_ylabel('Categorical Crossentropy Loss')\n",
    "\n",
    "# list of epoch numbers\n",
    "x = list(range(1,nb_epoch+1))\n",
    "\n",
    "vy32 = history32.history['val_loss']\n",
    "ty32 = history32.history['loss']\n",
    "plt_dynamic(x, vy32, ty32, ax32)"
   ]
  },
  {
   "cell_type": "markdown",
   "metadata": {
    "colab_type": "text",
    "id": "BpPgnBP50p2X"
   },
   "source": [
    "<h2>3.3 MLP + Dropout + AdamOptimizer</h2>"
   ]
  },
  {
   "cell_type": "code",
   "execution_count": 0,
   "metadata": {
    "colab": {},
    "colab_type": "code",
    "id": "JnKReC2F0mH1"
   },
   "outputs": [],
   "source": [
    "from keras.layers import Dropout\n",
    "\n",
    "model_drop = Sequential()\n",
    "model_relu.add(Dense(270, activation='relu', input_shape=(input_dim,),\n",
    "                     kernel_initializer=he_normal(seed=None)))\n",
    "model_drop.add(BatchNormalization())\n",
    "model_drop.add(Dropout(0.5))\n",
    "model_relu.add(Dense(170, activation='relu', \n",
    "                     kernel_initializer=he_normal(seed=None)) )\n",
    "model_drop.add(BatchNormalization())\n",
    "model_drop.add(Dropout(0.5))\n",
    "                                                    \n",
    "model_relu.add(Dense(124, activation='relu', \n",
    "                     kernel_initializer=he_normal(seed=None)) )\n",
    "model_drop.add(BatchNormalization())\n",
    "model_drop.add(Dropout(0.5))\n",
    "model_relu.add(Dense(74, activation='relu', \n",
    "                     kernel_initializer=he_normal(seed=None)) )\n",
    "model_drop.add(BatchNormalization())\n",
    "model_drop.add(Dropout(0.5))\n",
    "                                                    \n",
    "model_relu.add(Dense(24, activation='relu', \n",
    "                     kernel_initializer=he_normal(seed=None)) )\n",
    "model_drop.add(BatchNormalization())\n",
    "model_drop.add(Dropout(0.5))\n",
    "\n",
    "model_drop.add(Dense(output_dim, activation='softmax'))"
   ]
  },
  {
   "cell_type": "code",
   "execution_count": 174,
   "metadata": {
    "colab": {
     "base_uri": "https://localhost:8080/",
     "height": 750
    },
    "colab_type": "code",
    "id": "8TDkSLcY06PC",
    "outputId": "963d12e1-500e-4db7-bcc4-7e91f7965c7d"
   },
   "outputs": [
    {
     "name": "stdout",
     "output_type": "stream",
     "text": [
      "Train on 60000 samples, validate on 10000 samples\n",
      "Epoch 1/20\n",
      "60000/60000 [==============================] - 21s 350us/step - loss: 2.1407 - acc: 0.3129 - val_loss: 1.0587 - val_acc: 0.8367\n",
      "Epoch 2/20\n",
      "60000/60000 [==============================] - 15s 247us/step - loss: 1.6056 - acc: 0.4417 - val_loss: 0.9685 - val_acc: 0.8374\n",
      "Epoch 3/20\n",
      "60000/60000 [==============================] - 15s 258us/step - loss: 1.5861 - acc: 0.4489 - val_loss: 0.9560 - val_acc: 0.8435\n",
      "Epoch 4/20\n",
      "60000/60000 [==============================] - 15s 248us/step - loss: 1.5935 - acc: 0.4481 - val_loss: 0.9563 - val_acc: 0.8425\n",
      "Epoch 5/20\n",
      "60000/60000 [==============================] - 15s 249us/step - loss: 1.5843 - acc: 0.4502 - val_loss: 0.9460 - val_acc: 0.8454\n",
      "Epoch 6/20\n",
      "60000/60000 [==============================] - 15s 246us/step - loss: 1.5835 - acc: 0.4515 - val_loss: 0.9426 - val_acc: 0.8443\n",
      "Epoch 7/20\n",
      "60000/60000 [==============================] - 15s 257us/step - loss: 1.5749 - acc: 0.4514 - val_loss: 0.9385 - val_acc: 0.8445\n",
      "Epoch 8/20\n",
      "60000/60000 [==============================] - 15s 249us/step - loss: 1.5751 - acc: 0.4521 - val_loss: 0.9361 - val_acc: 0.8518\n",
      "Epoch 9/20\n",
      "60000/60000 [==============================] - 15s 250us/step - loss: 1.5771 - acc: 0.4517 - val_loss: 0.9403 - val_acc: 0.8545\n",
      "Epoch 10/20\n",
      "60000/60000 [==============================] - 15s 248us/step - loss: 1.5795 - acc: 0.4524 - val_loss: 0.9369 - val_acc: 0.8470\n",
      "Epoch 11/20\n",
      "60000/60000 [==============================] - 15s 250us/step - loss: 1.5741 - acc: 0.4539 - val_loss: 0.9391 - val_acc: 0.8438\n",
      "Epoch 12/20\n",
      "60000/60000 [==============================] - 15s 247us/step - loss: 1.5702 - acc: 0.4567 - val_loss: 0.9381 - val_acc: 0.8509\n",
      "Epoch 13/20\n",
      "60000/60000 [==============================] - 15s 249us/step - loss: 1.5741 - acc: 0.4563 - val_loss: 0.9421 - val_acc: 0.8489\n",
      "Epoch 14/20\n",
      "60000/60000 [==============================] - 15s 250us/step - loss: 1.5661 - acc: 0.4572 - val_loss: 0.9345 - val_acc: 0.8491\n",
      "Epoch 15/20\n",
      "60000/60000 [==============================] - 15s 252us/step - loss: 1.5613 - acc: 0.4598 - val_loss: 0.9334 - val_acc: 0.8472\n",
      "Epoch 16/20\n",
      "60000/60000 [==============================] - 15s 249us/step - loss: 1.5688 - acc: 0.4561 - val_loss: 0.9393 - val_acc: 0.8492\n",
      "Epoch 17/20\n",
      "60000/60000 [==============================] - 15s 249us/step - loss: 1.5606 - acc: 0.4600 - val_loss: 0.9367 - val_acc: 0.8547\n",
      "Epoch 18/20\n",
      "60000/60000 [==============================] - 15s 250us/step - loss: 1.5617 - acc: 0.4592 - val_loss: 0.9305 - val_acc: 0.8506\n",
      "Epoch 19/20\n",
      "60000/60000 [==============================] - 15s 251us/step - loss: 1.5583 - acc: 0.4612 - val_loss: 0.9282 - val_acc: 0.8530\n",
      "Epoch 20/20\n",
      "60000/60000 [==============================] - 15s 250us/step - loss: 1.5592 - acc: 0.4623 - val_loss: 0.9322 - val_acc: 0.8481\n"
     ]
    }
   ],
   "source": [
    "model_drop.compile(optimizer='adam',\n",
    "                   loss='categorical_crossentropy',\n",
    "                   metrics=['accuracy'])\n",
    "\n",
    "history33 = model_drop.fit(X_train, Y_train,\n",
    "                         batch_size=batch_size,\n",
    "                         \n",
    "                         epochs=nb_epoch, verbose=1,\n",
    "                         validation_data=(X_test, Y_test))"
   ]
  },
  {
   "cell_type": "code",
   "execution_count": 175,
   "metadata": {
    "colab": {
     "base_uri": "https://localhost:8080/",
     "height": 535
    },
    "colab_type": "code",
    "id": "BgNA6AaA1Dxj",
    "outputId": "0b30a7f0-67b9-486c-bf6a-b0c641550bb7"
   },
   "outputs": [
    {
     "name": "stdout",
     "output_type": "stream",
     "text": [
      "_________________________________________________________________\n",
      "Layer (type)                 Output Shape              Param #   \n",
      "=================================================================\n",
      "batch_normalization_46 (Batc (None, 784)               3136      \n",
      "_________________________________________________________________\n",
      "dropout_21 (Dropout)         (None, 784)               0         \n",
      "_________________________________________________________________\n",
      "batch_normalization_47 (Batc (None, 784)               3136      \n",
      "_________________________________________________________________\n",
      "dropout_22 (Dropout)         (None, 784)               0         \n",
      "_________________________________________________________________\n",
      "batch_normalization_48 (Batc (None, 784)               3136      \n",
      "_________________________________________________________________\n",
      "dropout_23 (Dropout)         (None, 784)               0         \n",
      "_________________________________________________________________\n",
      "batch_normalization_49 (Batc (None, 784)               3136      \n",
      "_________________________________________________________________\n",
      "dropout_24 (Dropout)         (None, 784)               0         \n",
      "_________________________________________________________________\n",
      "batch_normalization_50 (Batc (None, 784)               3136      \n",
      "_________________________________________________________________\n",
      "dropout_25 (Dropout)         (None, 784)               0         \n",
      "_________________________________________________________________\n",
      "dense_102 (Dense)            (None, 10)                7850      \n",
      "=================================================================\n",
      "Total params: 23,530\n",
      "Trainable params: 15,690\n",
      "Non-trainable params: 7,840\n",
      "_________________________________________________________________\n"
     ]
    }
   ],
   "source": [
    "model_drop.summary()"
   ]
  },
  {
   "cell_type": "code",
   "execution_count": 176,
   "metadata": {
    "colab": {
     "base_uri": "https://localhost:8080/",
     "height": 319
    },
    "colab_type": "code",
    "id": "-T2B36l51LWH",
    "outputId": "41d34c42-6643-4895-c724-95085a1299ba"
   },
   "outputs": [
    {
     "name": "stdout",
     "output_type": "stream",
     "text": [
      "Test score: 0.9321871797561645\n",
      "Test accuracy: 0.8481\n"
     ]
    },
    {
     "data": {
      "image/png": "[encoded data removed]",
      "text/plain": [
       "<Figure size 432x288 with 1 Axes>"
      ]
     },
     "metadata": {
      "tags": []
     },
     "output_type": "display_data"
    }
   ],
   "source": [
    "score = model_drop.evaluate(X_test, Y_test, verbose=0) \n",
    "score17=score[0]\n",
    "score18=score[1]\n",
    "train_acc9=history33.history['acc']\n",
    "print('Test score:', score[0]) \n",
    "print('Test accuracy:', score[1])\n",
    "\n",
    "fig,ax33 = plt.subplots(1,1)\n",
    "ax33.set_xlabel('epoch') ; ax33.set_ylabel('Categorical Crossentropy Loss')\n",
    "\n",
    "# list of epoch numbers\n",
    "x = list(range(1,nb_epoch+1))\n",
    "\n",
    "\n",
    "vy33 = history33.history['val_loss']\n",
    "ty33 = history33.history['loss']\n",
    "plt_dynamic(x, vy33, ty33, ax33)"
   ]
  },
  {
   "cell_type": "markdown",
   "metadata": {
    "colab_type": "text",
    "id": "c2Ti2k2s1Yvt"
   },
   "source": [
    "<h2>Observation:</h2>"
   ]
  },
  {
   "cell_type": "code",
   "execution_count": 177,
   "metadata": {
    "colab": {
     "base_uri": "https://localhost:8080/",
     "height": 249
    },
    "colab_type": "code",
    "id": "_NxECHUX1S7R",
    "outputId": "506917a2-9e1f-448b-f89f-f91d13153f6e"
   },
   "outputs": [
    {
     "name": "stdout",
     "output_type": "stream",
     "text": [
      "+--------+------------------------------------------+---------------+----------------------+\n",
      "| INDEX. |                MODEL_NAME                | TEST ACCURACY |      TEST SCORE      |\n",
      "+--------+------------------------------------------+---------------+----------------------+\n",
      "|   1    |       2_hidden_layer MLP+ReLu+Adam       |     0.9805    | 0.08348324791224636  |\n",
      "|   2    |     2_hidden_layer MLP+Relu+adam+BN      |     0.9795    | 0.08622472910828928  |\n",
      "|   3    | 2_hidden_layer MLP+reLu+Adam+BN+Drop-out |     0.9831    | 0.056475996556773315 |\n",
      "|   4    |       3_hidden_layer MLP+ReLu+Adam       |     0.9786    | 0.10880283313435166  |\n",
      "|   5    |     3_hidden_layer MLP+Relu+adam+BN      |     0.8416    |  0.6937280797123909  |\n",
      "|   6    | 3_hidden_layer MLP+reLu+Adam+BN+Drop-out |     0.8989    |  0.4045674772977829  |\n",
      "|   7    |       5_hidden_layer MLP+ReLu+Adam       |     0.9831    | 0.08955217869340677  |\n",
      "|   8    |     5_hidden_layer MLP+Relu+adam+BN      |     0.1136    |  14.287079652404785  |\n",
      "|   9    | 5_hidden_layer MLP+reLu+Adam+BN+Drop-out |     0.8481    |  0.9321871797561645  |\n",
      "+--------+------------------------------------------+---------------+----------------------+\n"
     ]
    }
   ],
   "source": [
    "from prettytable import PrettyTable\n",
    "models=['2_hidden_layer MLP+ReLu+Adam',\n",
    "        '2_hidden_layer MLP+Relu+adam+BN',\n",
    "        '2_hidden_layer MLP+reLu+Adam+BN+Drop-out',\n",
    "       '3_hidden_layer MLP+ReLu+Adam',\n",
    "        '3_hidden_layer MLP+Relu+adam+BN',\n",
    "        '3_hidden_layer MLP+reLu+Adam+BN+Drop-out',\n",
    "       '5_hidden_layer MLP+ReLu+Adam',\n",
    "        '5_hidden_layer MLP+Relu+adam+BN',\n",
    "        '5_hidden_layer MLP+reLu+Adam+BN+Drop-out']\n",
    "\n",
    "test_score=[score1,score3,score5,score7,score9,score11,score13,score15,\n",
    "           score17]\n",
    "test_accuracy=[score2,score4,score6,score8,score10,score12,score14,\n",
    "              score16,\n",
    "              score18]\n",
    "INDEX = [1,2,3,4,5,6,7,8,9]\n",
    "# Initializing prettytable\n",
    "Model_Performance = PrettyTable()\n",
    "# Adding columns\n",
    "Model_Performance.add_column(\"INDEX.\",INDEX)\n",
    "Model_Performance.add_column(\"MODEL_NAME\",models)\n",
    "Model_Performance.add_column(\"TEST ACCURACY\",test_accuracy)\n",
    "Model_Performance.add_column(\"TEST SCORE\",test_score)\n",
    "\n",
    "# Printing the Model_Performance\n",
    "print(Model_Performance)"
   ]
  }
 ],
 "metadata": {
  "colab": {
   "collapsed_sections": [],
   "name": "12 (Colaboratory)TensorFlow and Keras Build various MLP architectures for MNIST dataset.ipynb",
   "provenance": [],
   "version": "0.3.2"
  },
  "kernelspec": {
   "display_name": "Python 3",
   "language": "python",
   "name": "python3"
  },
  "language_info": {
   "codemirror_mode": {
    "name": "ipython",
    "version": 3
   },
   "file_extension": ".py",
   "mimetype": "text/x-python",
   "name": "python",
   "nbconvert_exporter": "python",
   "pygments_lexer": "ipython3",
   "version": "3.6.4"
  }
 },
 "nbformat": 4,
 "nbformat_minor": 1
}
